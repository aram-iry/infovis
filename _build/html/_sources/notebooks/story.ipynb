{
 "cells": [
  {
   "cell_type": "markdown",
   "id": "5b2dae24-ad0b-45f8-bd5a-584078637b92",
   "metadata": {
    "id": "5b2dae24-ad0b-45f8-bd5a-584078637b92"
   },
   "source": [
    "# The impact of fishing industries on whale populations\n"
   ]
  },
  {
   "cell_type": "markdown",
   "id": "NtArFaY5IPAV",
   "metadata": {
    "id": "NtArFaY5IPAV"
   },
   "source": [
    "For decades, the vast and mysterious presence of whales has captivated both scientists and the public alike. These marine giants serve vital ecological functions, from regulating food webs to contributing to the global carbon cycle. Yet in the last century, the pressures exerted by industrial-scale fishing have brought their survival into question. As demand for seafood rises, concerns grow over the consequences this industry may have on the health of whale populations worldwide.\n",
    "\n",
    "While fishing is crucial for global food security and coastal livelihoods, its side effects are increasingly hard to ignore. One particularly serious issue is whale bycatch, the accidental capture of whales in fishing gear. Combined with overlapping marine traffic and habitat disruption, these pressures raise urgent questions about how to balance marine resource use with conservation. Despite growing awareness, the scale and impact of these interactions remain difficult to quantify.\n",
    "\n",
    "To shed light on this issue, we analyzed data from multiple marine datasets covering whale bycatch, whale and ship activity, and fishing activity across several regions and years. Our goal was to understand the scale and geography of interactions between whales and industrial fisheries. In doing so, we aimed to identify which whale species are most exposed, which regions pose the highest risk, if the problem has gotten somewhat better over the years, and how data-driven policy could help protect marine life while supporting sustainable fishing practices."
   ]
  },
  {
   "cell_type": "code",
   "execution_count": null,
   "id": "56e181e1-66c6-465b-b412-ce3138ee4578",
   "metadata": {
    "id": "56e181e1-66c6-465b-b412-ce3138ee4578"
   },
   "outputs": [],
   "source": [
    "%run piditje.ipynb"
   ]
  },
  {
   "cell_type": "code",
   "execution_count": null,
   "id": "799fe49c-8cdb-448f-8f32-ddd83fd7b818",
   "metadata": {
    "id": "799fe49c-8cdb-448f-8f32-ddd83fd7b818"
   },
   "outputs": [],
   "source": [
    "%run global_whale.ipynb"
   ]
  },
  {
   "cell_type": "code",
   "execution_count": null,
   "id": "4b90df03",
   "metadata": {
    "id": "4b90df03"
   },
   "outputs": [],
   "source": []
  },
  {
   "cell_type": "code",
   "execution_count": null,
   "id": "190c275b-02f7-4100-8ef8-6c72a08f0048",
   "metadata": {
    "id": "190c275b-02f7-4100-8ef8-6c72a08f0048"
   },
   "outputs": [],
   "source": []
  }
 ],
 "metadata": {
  "colab": {
   "provenance": []
  },
  "kernelspec": {
   "display_name": "Python 3 (ipykernel)",
   "language": "python",
   "name": "python3"
  },
  "language_info": {
   "codemirror_mode": {
    "name": "ipython",
    "version": 3
   },
   "file_extension": ".py",
   "mimetype": "text/x-python",
   "name": "python",
   "nbconvert_exporter": "python",
   "pygments_lexer": "ipython3",
   "version": "3.12.3"
  }
 },
 "nbformat": 4,
 "nbformat_minor": 5
}
