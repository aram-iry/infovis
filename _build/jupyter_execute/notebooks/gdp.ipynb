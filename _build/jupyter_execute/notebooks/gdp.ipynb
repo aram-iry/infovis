{
 "cells": [
  {
   "cell_type": "code",
   "execution_count": 1,
   "metadata": {},
   "outputs": [
    {
     "ename": "ModuleNotFoundError",
     "evalue": "No module named 'plotly'",
     "output_type": "error",
     "traceback": [
      "\u001b[31m---------------------------------------------------------------------------\u001b[39m",
      "\u001b[31mModuleNotFoundError\u001b[39m                       Traceback (most recent call last)",
      "\u001b[36mCell\u001b[39m\u001b[36m \u001b[39m\u001b[32mIn[1]\u001b[39m\u001b[32m, line 2\u001b[39m\n\u001b[32m      1\u001b[39m \u001b[38;5;28;01mimport\u001b[39;00m\u001b[38;5;250m \u001b[39m\u001b[34;01mpandas\u001b[39;00m\u001b[38;5;250m \u001b[39m\u001b[38;5;28;01mas\u001b[39;00m\u001b[38;5;250m \u001b[39m\u001b[34;01mpd\u001b[39;00m\n\u001b[32m----> \u001b[39m\u001b[32m2\u001b[39m \u001b[38;5;28;01mimport\u001b[39;00m\u001b[38;5;250m \u001b[39m\u001b[34;01mplotly\u001b[39;00m\u001b[34;01m.\u001b[39;00m\u001b[34;01mexpress\u001b[39;00m\u001b[38;5;250m \u001b[39m\u001b[38;5;28;01mas\u001b[39;00m\u001b[38;5;250m \u001b[39m\u001b[34;01mpx\u001b[39;00m\n\u001b[32m      4\u001b[39m \u001b[38;5;66;03m# Read the CSV file with proper parameters\u001b[39;00m\n\u001b[32m      5\u001b[39m df = pd.read_csv(\u001b[33m'\u001b[39m\u001b[33m../data/capture_fisheries.csv\u001b[39m\u001b[33m'\u001b[39m, skiprows=\u001b[32m4\u001b[39m)  \u001b[38;5;66;03m# Skip the header rows\u001b[39;00m\n",
      "\u001b[31mModuleNotFoundError\u001b[39m: No module named 'plotly'"
     ]
    }
   ],
   "source": [
    "import pandas as pd\n",
    "import plotly.express as px\n",
    "\n",
    "# Read the CSV file with proper parameters\n",
    "df = pd.read_csv('../data/capture_fisheries.csv', skiprows=4)  # Skip the header rows\n",
    "df = df.dropna(how='all')  # Drop empty rows\n",
    "\n",
    "# Melt the DataFrame to transform years into rows\n",
    "years = [str(year) for year in range(1960, 2025)]\n",
    "df_melted = df.melt(\n",
    "    id_vars=[\"Country Name\", \"Country Code\", \"Indicator Name\", \"Indicator Code\"],\n",
    "    value_vars=years,\n",
    "    var_name=\"Year\",\n",
    "    value_name=\"Capture Production (metric tons)\"\n",
    ")\n",
    "\n",
    "# Convert to numeric and clean data\n",
    "df_melted['Year'] = pd.to_numeric(df_melted['Year'])\n",
    "df_melted['Capture Production (metric tons)'] = pd.to_numeric(\n",
    "    df_melted['Capture Production (metric tons)'], errors='coerce'\n",
    ")\n",
    "df_melted = df_melted.dropna(subset=['Capture Production (metric tons)'])\n",
    "\n",
    "# Calculate world totals by year\n",
    "world_totals = df_melted.groupby('Year')['Capture Production (metric tons)'].sum().reset_index()\n",
    "\n",
    "# Create the visualization\n",
    "fig = px.line(\n",
    "    world_totals,\n",
    "    x='Year',\n",
    "    y='Capture Production (metric tons)',\n",
    "    title='World Total Capture Fisheries Production (1960-2024)',\n",
    "    labels={'Capture Production (metric tons)': 'Total Capture (metric tons)'},\n",
    "    markers=True\n",
    ")\n",
    "\n",
    "# Customize the layout\n",
    "fig.update_layout(\n",
    "    xaxis_title='Year',\n",
    "    yaxis_title='Total Capture Production (metric tons)',\n",
    "    hovermode='x unified',\n",
    "    showlegend=False,\n",
    "    template='plotly_white'\n",
    ")\n",
    "\n",
    "fig.update_traces(\n",
    "    hovertemplate='<b>Year:</b> %{x}<br><b>Total Capture:</b> %{y:,} metric tons'\n",
    ")\n",
    "\n",
    "fig.show()\n",
    "\n"
   ]
  }
 ],
 "metadata": {
  "language_info": {
   "codemirror_mode": {
    "name": "ipython",
    "version": 3
   },
   "file_extension": ".py",
   "mimetype": "text/x-python",
   "name": "python",
   "nbconvert_exporter": "python",
   "pygments_lexer": "ipython3",
   "version": "3.13.2"
  }
 },
 "nbformat": 4,
 "nbformat_minor": 2
}