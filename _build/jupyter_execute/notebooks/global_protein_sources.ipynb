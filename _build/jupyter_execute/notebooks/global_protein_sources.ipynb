{
 "cells": [
  {
   "cell_type": "code",
   "execution_count": 1,
   "id": "4f374e0e-9d14-4319-95e1-dd20cb45d58e",
   "metadata": {},
   "outputs": [
    {
     "data": {
      "application/vnd.plotly.v1+json": {
       "config": {
        "plotlyServerURL": "https://plot.ly"
       },
       "data": [
        {
         "fillpattern": {
          "shape": ""
         },
         "hovertemplate": "<b>%{fullData.name}</b><br>%{y:.1f}%<extra></extra>",
         "legendgroup": "Plant",
         "line": {
          "color": "#0a2463"
         },
         "marker": {
          "symbol": "circle"
         },
         "mode": "lines",
         "name": "Plant",
         "opacity": 1,
         "orientation": "v",
         "showlegend": true,
         "stackgroup": "1",
         "type": "scatter",
         "x": {
          "bdata": "qQeqB6sHrAetB64HrwewB7EHsgezB7QHtQe2B7cHuAe5B7oHuwe8B70Hvge/B8AHwQfCB8MHxAfFB8YHxwfIB8kHygfLB8wHzQfOB88H0AfRB9IH0wfUB9UH1gfXB9gH2QfaB9sH3AfdB94H3wfgB+EH4gfjB+QH5QfmBw==",
          "dtype": "i2"
         },
         "xaxis": "x",
         "y": {
          "bdata": "EyBTKbIGUEDSPX7AXvRPQOVNDF79z09ApkxjJqbIT0Cwv8kryK5PQEyxn5C4WU9A/9HqaV0+T0DXuInv+u1OQOkf03Kq205Azwqrw7yVTkC1KjHCRIJOQGx6griWRk5AXBmqt/RdTkCxMjM2AEdOQNU0KNfYBk5Axw1F+CCpTUCbOEjs04tNQKo0hSUzXU1AGHllwYVUTUBXNb9clS9NQPE9QcZYIU1AdSrOVkATTUCHn3fAXh1NQOXOUhDAB01ArdL6VVoBTUDKJge7zQVNQDkCVIg1+kxAf9RUcisUTUCHUydEoh5NQGwPwPhwAk1A+/sRmU/4TECMcx3TwNtMQAdLaIZa1kxAGhABnQvlTEDVmhekl8hMQPysay7pzUxAlIBELeLETEA+Hrg7c7FMQHP6HHtVlkxAuF2DgqR3TEAUfYCdUW5MQPJAUPEeR0xAtyyVpPpOTECpzr0yJT5MQBvY7LQfF0xAXwH0DHUPTEC0sSa1hdFLQOebL5VFx0tAz8uUbx7dS0BmpyrmaDRLQBPFLkiYF0tAmQiz3mESS0B/XHLmPQ5LQDT8j61b1kpAF4i75//HSkAJLCOCwrxKQIDXj/I5vUpAwFbfX8KLSkAZoV2FiUZKQDmn+B3jVEpArjcQCcoqSkBkw9dJqyxKQA==",
          "dtype": "f8"
         },
         "yaxis": "y"
        },
        {
         "fillpattern": {
          "shape": ""
         },
         "hovertemplate": "<b>%{fullData.name}</b><br>%{y:.1f}%<extra></extra>",
         "legendgroup": "Fish",
         "line": {
          "color": "#3a5ba0"
         },
         "marker": {
          "symbol": "circle"
         },
         "mode": "lines",
         "name": "Fish",
         "opacity": 1,
         "orientation": "v",
         "showlegend": true,
         "stackgroup": "1",
         "type": "scatter",
         "x": {
          "bdata": "qQeqB6sHrAetB64HrwewB7EHsgezB7QHtQe2B7cHuAe5B7oHuwe8B70Hvge/B8AHwQfCB8MHxAfFB8YHxwfIB8kHygfLB8wHzQfOB88H0AfRB9IH0wfUB9UH1gfXB9gH2QfaB9sH3AfdB94H3wfgB+EH4gfjB+QH5QfmBw==",
          "dtype": "i2"
         },
         "xaxis": "x",
         "y": {
          "bdata": "yBX5RGxsFUDxp7Z1X6cVQIK+/PngQRZA+mdqtelqFkAd6nK7ofkWQOGXhePE/BdAZlhUFSneF0CiC2YJ1QUYQF7t9BihzRdAUd69oTMmGUAFcyAuSu8YQDCJmVRHmRlAyDrB3E2tGUBRGWGMTqAZQLKvoQNouRlAXrAFzlSOGkBpPGjmIEoaQKPOwfCyoRpABxG+vkBkGkBJNqwVuuYaQAJbwOWLSBtA7rBRF2oDG0DQnScotTwbQLnwoxT5zBtAbp22tDQWHEA2YdIDy0McQC8XrA3dsBtABRKLe56VG0BVBei4NeobQKaNcmpRghtA7YwfHDq/GkDGtfP+8cQZQIus+rtA6BlAQNvswHLlGUARIA+eyfQZQG9y3NlcZxpAo+kvofrDGkDIToeU5IUaQNPfbT546BpAfoLzwvbtGkCB2BeUYWkbQMiSMIl7KBtAm2ACu/hBG0DAZbYzuWIbQKMx4XinrhtASvtHkTxAG0BC2yW/OdcbQLLaw7h0khtActPCfAayG0AtbXoQ8zIZQCY8BpieSBlA32Q2QM8uGUC2nAMdcjkZQMhHIB4NoRlA2bLKGY4/GUAK3RU4hkMZQC/l2G54GRlAqg/QEa/eGEDxA/W0ReoYQDOBUo13QRhAAg5kJd4lGEAeZ6RmsQMYQA==",
          "dtype": "f8"
         },
         "yaxis": "y"
        },
        {
         "fillpattern": {
          "shape": ""
         },
         "hovertemplate": "<b>%{fullData.name}</b><br>%{y:.1f}%<extra></extra>",
         "legendgroup": "Meat",
         "line": {
          "color": "#5b8cff"
         },
         "marker": {
          "symbol": "circle"
         },
         "mode": "lines",
         "name": "Meat",
         "opacity": 1,
         "orientation": "v",
         "showlegend": true,
         "stackgroup": "1",
         "type": "scatter",
         "x": {
          "bdata": "qQeqB6sHrAetB64HrwewB7EHsgezB7QHtQe2B7cHuAe5B7oHuwe8B70Hvge/B8AHwQfCB8MHxAfFB8YHxwfIB8kHygfLB8wHzQfOB88H0AfRB9IH0wfUB9UH1gfXB9gH2QfaB9sH3AfdB94H3wfgB+EH4gfjB+QH5QfmBw==",
          "dtype": "i2"
         },
         "xaxis": "x",
         "y": {
          "bdata": "V8ytzO7SMECiV/FfwQMxQKfZWA9zFTFA+1adWe4WMUBfEp8nexcxQCT8jRBLWzFAyo1kjwSAMUCEA2v3eOsxQIqFhD/OAjJAHmTaKgIZMkDbaICH0CgyQE/RU3rGdjJA6YbPc0A1MkB2k+0v2lIyQDKOBc5n8DJAWfqzyG85M0B5mGUoWVQzQCINh3OGhDNAb1BLGGiGM0BHTlJwJJ0zQEgbxNYDrzNAf0+d7GfUM0Ay2gWLOLQzQFVVEp7vtjNAyweci4HEM0CJ3cceytkzQEEtqQ0UCzRAymmqr3MLNEDeFWgxyhA0QIiGlCq/YDRA4URi8w+pNED6x7q7k6o0QJ3iR4y0qzRAyDGeI0N8NECpryKIo5w0QNfkEKQ+iDRAtbBByDmANEAIZfWjBbU0QGIfaeR1tDRA3cvw8C/qNEA/dpLKjMU0QCjhMDCcDjVALY7DNY0WNUDyd9y7DkM1QBt/RRXcYzVAfmtkwsZgNUD9oM9xNNY1QKpQgbMy+jVAhUV80UXLNUDdRW4BDAc5QHoeJTegAzlAtb/tHGAKOUBIrZpjBf04QDAqRwab/jhAZOUxeq4dOUDcHU2NRCY5QM50+zHtMDlARknZeISPOUDcnGCOtuw5QGfPGi2+zzlAt0WWfdUmOkDUokKYD086QA==",
          "dtype": "f8"
         },
         "yaxis": "y"
        },
        {
         "fillpattern": {
          "shape": ""
         },
         "hovertemplate": "<b>%{fullData.name}</b><br>%{y:.1f}%<extra></extra>",
         "legendgroup": "Eggs",
         "line": {
          "color": "#87cefa"
         },
         "marker": {
          "symbol": "circle"
         },
         "mode": "lines",
         "name": "Eggs",
         "opacity": 1,
         "orientation": "v",
         "showlegend": true,
         "stackgroup": "1",
         "type": "scatter",
         "x": {
          "bdata": "qQeqB6sHrAetB64HrwewB7EHsgezB7QHtQe2B7cHuAe5B7oHuwe8B70Hvge/B8AHwQfCB8MHxAfFB8YHxwfIB8kHygfLB8wHzQfOB88H0AfRB9IH0wfUB9UH1gfXB9gH2QfaB9sH3AfdB94H3wfgB+EH4gfjB+QH5QfmBw==",
          "dtype": "i2"
         },
         "xaxis": "x",
         "y": {
          "bdata": "nQ/pERKm/j+u0BaV1t/+P04vd7etRv8/ZFn/C4j5/z82z+ma5zsAQJ3F7nmiiABAYZFCMxjmAECdemCE/BcBQAraseMNjAFAsyOK/hANAkANEJQwxSICQP4agfQaZQJAo7e+ZG1QAkCelGHWFoICQJ56wSclEwNAp+yk1g8oA0DEEMGbwHgDQLatJP4M/ANAkmIzBjo2BEDgbJbPTUoEQDePgd5oYQRAtXw/f3CUBEA7lIz0L3AEQCkmUHxbcQRAivIrPHptBEAjLZdRv4wEQKiRm9B3NwRAoteuSA9RBEASnXYtsN4DQDdMt4MySARAS1J/C/EUBEB5hMUG6VUEQPleTQul2ANAXUV34WfTA0AKS8qEAd8DQJRPbczpdQNADARSYmPpA0CJsepF0yoEQPKpyVdAzgNArprGAazGA0B88FSnLTMEQJiBjFeOYgRA5IsntnZOBEBx7YxQeK0EQModkmhmjARABeuOlyixBECpy23PZeEEQB1Z3xNe6gRAAMmkFIPDBEC3BcIJHlcEQOwqqWODSARAO7pttaKSBEDR6cwQiOkEQMoMl8yKUwVAOV8xYAJHBUD1ny+5I4sFQC0yPHKX5wVASSPy/hsaBkDhoUB5uZcGQOymNKYvpQZA+XmhjjqZBkAf9X4fhhoHQA==",
          "dtype": "f8"
         },
         "yaxis": "y"
        },
        {
         "fillpattern": {
          "shape": ""
         },
         "hovertemplate": "<b>%{fullData.name}</b><br>%{y:.1f}%<extra></extra>",
         "legendgroup": "Dairy",
         "line": {
          "color": "#b3e0ff"
         },
         "marker": {
          "symbol": "circle"
         },
         "mode": "lines",
         "name": "Dairy",
         "opacity": 1,
         "orientation": "v",
         "showlegend": true,
         "stackgroup": "1",
         "type": "scatter",
         "x": {
          "bdata": "qQeqB6sHrAetB64HrwewB7EHsgezB7QHtQe2B7cHuAe5B7oHuwe8B70Hvge/B8AHwQfCB8MHxAfFB8YHxwfIB8kHygfLB8wHzQfOB88H0AfRB9IH0wfUB9UH1gfXB9gH2QfaB9sH3AfdB94H3wfgB+EH4gfjB+QH5QfmBw==",
          "dtype": "i2"
         },
         "xaxis": "x",
         "y": {
          "bdata": "5blRt5iZJ0BoK6awV3cnQPjPLzVeiydASwAD1+R6J0Cm8yY9HoonQDLFJoz8wSdA78sQoubdJ0Ab8TetOCgoQBOIQ7DlQShAapQdi6pgKEDhRQWF9aQoQFRo4cEtkihAcUEo8umyKEB1HI/Lnc0oQMzZkrtPYihA4cDXMG7XKEA7iu9jvSQpQFwA88pJMilAm5nn6GlhKUCz16ItcYEpQF1A8g71XylAiP8ToF1jKUCK2d5WrWcpQNoXKhlNcClAYFp2pxpLKUDgrQSAH/AoQJmsYEi1GilAgZtmx1e5KEA03MCkG3coQGObr3GIYShASOsDZMhnKEDeZen64UMpQKVg/izjZClAEB3r67eLKUCIEiIvNbIpQEH1JR61pilAciY+ka2PKUAyaXatgIIpQAV9kBXy1SlAhIklsmfkKUDT9vfAI/opQCDQ4X9qGSpAhB0Z92DiKUA9Z1EPk6QpQB2BLKtb4SlAHmvf2DU0KkCwllf0iekpQG8r5WKy6ilAt6kpmxbrKUCtHstZA3EnQPRFDUzu4ydANb3h/aflJ0CmKkyM4vUnQLPT+/rxgyhAqWO8xxuzKECkPYLS4LsoQDs5zr2boihA0oErBg+8KEB7l/2UW/EoQP1ZsX3vQilAUDA4Ku9NKUDuu+lsueYoQA==",
          "dtype": "f8"
         },
         "yaxis": "y"
        }
       ],
       "layout": {
        "annotations": [
         {
          "align": "left",
          "font": {
           "color": "#0a2463"
          },
          "showarrow": false,
          "text": "Global sources of dietary protein between the years 1961-2022. <br>Hover to see specific data per year.<br>Toggle on or off different protein sources with the legend on the right.",
          "x": 0,
          "xanchor": "left",
          "xref": "paper",
          "y": -0.3,
          "yanchor": "bottom",
          "yref": "paper"
         }
        ],
        "font": {
         "color": "#0a2463"
        },
        "height": 500,
        "hovermode": "x unified",
        "legend": {
         "title": {
          "text": "Protein Source"
         },
         "tracegroupgap": 0
        },
        "margin": {
         "b": 130,
         "l": 30,
         "r": 30,
         "t": 30
        },
        "plot_bgcolor": "white",
        "template": {
         "data": {
          "bar": [
           {
            "error_x": {
             "color": "#2a3f5f"
            },
            "error_y": {
             "color": "#2a3f5f"
            },
            "marker": {
             "line": {
              "color": "#E5ECF6",
              "width": 0.5
             },
             "pattern": {
              "fillmode": "overlay",
              "size": 10,
              "solidity": 0.2
             }
            },
            "type": "bar"
           }
          ],
          "barpolar": [
           {
            "marker": {
             "line": {
              "color": "#E5ECF6",
              "width": 0.5
             },
             "pattern": {
              "fillmode": "overlay",
              "size": 10,
              "solidity": 0.2
             }
            },
            "type": "barpolar"
           }
          ],
          "carpet": [
           {
            "aaxis": {
             "endlinecolor": "#2a3f5f",
             "gridcolor": "white",
             "linecolor": "white",
             "minorgridcolor": "white",
             "startlinecolor": "#2a3f5f"
            },
            "baxis": {
             "endlinecolor": "#2a3f5f",
             "gridcolor": "white",
             "linecolor": "white",
             "minorgridcolor": "white",
             "startlinecolor": "#2a3f5f"
            },
            "type": "carpet"
           }
          ],
          "choropleth": [
           {
            "colorbar": {
             "outlinewidth": 0,
             "ticks": ""
            },
            "type": "choropleth"
           }
          ],
          "contour": [
           {
            "colorbar": {
             "outlinewidth": 0,
             "ticks": ""
            },
            "colorscale": [
             [
              0.0,
              "#0d0887"
             ],
             [
              0.1111111111111111,
              "#46039f"
             ],
             [
              0.2222222222222222,
              "#7201a8"
             ],
             [
              0.3333333333333333,
              "#9c179e"
             ],
             [
              0.4444444444444444,
              "#bd3786"
             ],
             [
              0.5555555555555556,
              "#d8576b"
             ],
             [
              0.6666666666666666,
              "#ed7953"
             ],
             [
              0.7777777777777778,
              "#fb9f3a"
             ],
             [
              0.8888888888888888,
              "#fdca26"
             ],
             [
              1.0,
              "#f0f921"
             ]
            ],
            "type": "contour"
           }
          ],
          "contourcarpet": [
           {
            "colorbar": {
             "outlinewidth": 0,
             "ticks": ""
            },
            "type": "contourcarpet"
           }
          ],
          "heatmap": [
           {
            "colorbar": {
             "outlinewidth": 0,
             "ticks": ""
            },
            "colorscale": [
             [
              0.0,
              "#0d0887"
             ],
             [
              0.1111111111111111,
              "#46039f"
             ],
             [
              0.2222222222222222,
              "#7201a8"
             ],
             [
              0.3333333333333333,
              "#9c179e"
             ],
             [
              0.4444444444444444,
              "#bd3786"
             ],
             [
              0.5555555555555556,
              "#d8576b"
             ],
             [
              0.6666666666666666,
              "#ed7953"
             ],
             [
              0.7777777777777778,
              "#fb9f3a"
             ],
             [
              0.8888888888888888,
              "#fdca26"
             ],
             [
              1.0,
              "#f0f921"
             ]
            ],
            "type": "heatmap"
           }
          ],
          "histogram": [
           {
            "marker": {
             "pattern": {
              "fillmode": "overlay",
              "size": 10,
              "solidity": 0.2
             }
            },
            "type": "histogram"
           }
          ],
          "histogram2d": [
           {
            "colorbar": {
             "outlinewidth": 0,
             "ticks": ""
            },
            "colorscale": [
             [
              0.0,
              "#0d0887"
             ],
             [
              0.1111111111111111,
              "#46039f"
             ],
             [
              0.2222222222222222,
              "#7201a8"
             ],
             [
              0.3333333333333333,
              "#9c179e"
             ],
             [
              0.4444444444444444,
              "#bd3786"
             ],
             [
              0.5555555555555556,
              "#d8576b"
             ],
             [
              0.6666666666666666,
              "#ed7953"
             ],
             [
              0.7777777777777778,
              "#fb9f3a"
             ],
             [
              0.8888888888888888,
              "#fdca26"
             ],
             [
              1.0,
              "#f0f921"
             ]
            ],
            "type": "histogram2d"
           }
          ],
          "histogram2dcontour": [
           {
            "colorbar": {
             "outlinewidth": 0,
             "ticks": ""
            },
            "colorscale": [
             [
              0.0,
              "#0d0887"
             ],
             [
              0.1111111111111111,
              "#46039f"
             ],
             [
              0.2222222222222222,
              "#7201a8"
             ],
             [
              0.3333333333333333,
              "#9c179e"
             ],
             [
              0.4444444444444444,
              "#bd3786"
             ],
             [
              0.5555555555555556,
              "#d8576b"
             ],
             [
              0.6666666666666666,
              "#ed7953"
             ],
             [
              0.7777777777777778,
              "#fb9f3a"
             ],
             [
              0.8888888888888888,
              "#fdca26"
             ],
             [
              1.0,
              "#f0f921"
             ]
            ],
            "type": "histogram2dcontour"
           }
          ],
          "mesh3d": [
           {
            "colorbar": {
             "outlinewidth": 0,
             "ticks": ""
            },
            "type": "mesh3d"
           }
          ],
          "parcoords": [
           {
            "line": {
             "colorbar": {
              "outlinewidth": 0,
              "ticks": ""
             }
            },
            "type": "parcoords"
           }
          ],
          "pie": [
           {
            "automargin": true,
            "type": "pie"
           }
          ],
          "scatter": [
           {
            "fillpattern": {
             "fillmode": "overlay",
             "size": 10,
             "solidity": 0.2
            },
            "type": "scatter"
           }
          ],
          "scatter3d": [
           {
            "line": {
             "colorbar": {
              "outlinewidth": 0,
              "ticks": ""
             }
            },
            "marker": {
             "colorbar": {
              "outlinewidth": 0,
              "ticks": ""
             }
            },
            "type": "scatter3d"
           }
          ],
          "scattercarpet": [
           {
            "marker": {
             "colorbar": {
              "outlinewidth": 0,
              "ticks": ""
             }
            },
            "type": "scattercarpet"
           }
          ],
          "scattergeo": [
           {
            "marker": {
             "colorbar": {
              "outlinewidth": 0,
              "ticks": ""
             }
            },
            "type": "scattergeo"
           }
          ],
          "scattergl": [
           {
            "marker": {
             "colorbar": {
              "outlinewidth": 0,
              "ticks": ""
             }
            },
            "type": "scattergl"
           }
          ],
          "scattermap": [
           {
            "marker": {
             "colorbar": {
              "outlinewidth": 0,
              "ticks": ""
             }
            },
            "type": "scattermap"
           }
          ],
          "scattermapbox": [
           {
            "marker": {
             "colorbar": {
              "outlinewidth": 0,
              "ticks": ""
             }
            },
            "type": "scattermapbox"
           }
          ],
          "scatterpolar": [
           {
            "marker": {
             "colorbar": {
              "outlinewidth": 0,
              "ticks": ""
             }
            },
            "type": "scatterpolar"
           }
          ],
          "scatterpolargl": [
           {
            "marker": {
             "colorbar": {
              "outlinewidth": 0,
              "ticks": ""
             }
            },
            "type": "scatterpolargl"
           }
          ],
          "scatterternary": [
           {
            "marker": {
             "colorbar": {
              "outlinewidth": 0,
              "ticks": ""
             }
            },
            "type": "scatterternary"
           }
          ],
          "surface": [
           {
            "colorbar": {
             "outlinewidth": 0,
             "ticks": ""
            },
            "colorscale": [
             [
              0.0,
              "#0d0887"
             ],
             [
              0.1111111111111111,
              "#46039f"
             ],
             [
              0.2222222222222222,
              "#7201a8"
             ],
             [
              0.3333333333333333,
              "#9c179e"
             ],
             [
              0.4444444444444444,
              "#bd3786"
             ],
             [
              0.5555555555555556,
              "#d8576b"
             ],
             [
              0.6666666666666666,
              "#ed7953"
             ],
             [
              0.7777777777777778,
              "#fb9f3a"
             ],
             [
              0.8888888888888888,
              "#fdca26"
             ],
             [
              1.0,
              "#f0f921"
             ]
            ],
            "type": "surface"
           }
          ],
          "table": [
           {
            "cells": {
             "fill": {
              "color": "#EBF0F8"
             },
             "line": {
              "color": "white"
             }
            },
            "header": {
             "fill": {
              "color": "#C8D4E3"
             },
             "line": {
              "color": "white"
             }
            },
            "type": "table"
           }
          ]
         },
         "layout": {
          "annotationdefaults": {
           "arrowcolor": "#2a3f5f",
           "arrowhead": 0,
           "arrowwidth": 1
          },
          "autotypenumbers": "strict",
          "coloraxis": {
           "colorbar": {
            "outlinewidth": 0,
            "ticks": ""
           }
          },
          "colorscale": {
           "diverging": [
            [
             0,
             "#8e0152"
            ],
            [
             0.1,
             "#c51b7d"
            ],
            [
             0.2,
             "#de77ae"
            ],
            [
             0.3,
             "#f1b6da"
            ],
            [
             0.4,
             "#fde0ef"
            ],
            [
             0.5,
             "#f7f7f7"
            ],
            [
             0.6,
             "#e6f5d0"
            ],
            [
             0.7,
             "#b8e186"
            ],
            [
             0.8,
             "#7fbc41"
            ],
            [
             0.9,
             "#4d9221"
            ],
            [
             1,
             "#276419"
            ]
           ],
           "sequential": [
            [
             0.0,
             "#0d0887"
            ],
            [
             0.1111111111111111,
             "#46039f"
            ],
            [
             0.2222222222222222,
             "#7201a8"
            ],
            [
             0.3333333333333333,
             "#9c179e"
            ],
            [
             0.4444444444444444,
             "#bd3786"
            ],
            [
             0.5555555555555556,
             "#d8576b"
            ],
            [
             0.6666666666666666,
             "#ed7953"
            ],
            [
             0.7777777777777778,
             "#fb9f3a"
            ],
            [
             0.8888888888888888,
             "#fdca26"
            ],
            [
             1.0,
             "#f0f921"
            ]
           ],
           "sequentialminus": [
            [
             0.0,
             "#0d0887"
            ],
            [
             0.1111111111111111,
             "#46039f"
            ],
            [
             0.2222222222222222,
             "#7201a8"
            ],
            [
             0.3333333333333333,
             "#9c179e"
            ],
            [
             0.4444444444444444,
             "#bd3786"
            ],
            [
             0.5555555555555556,
             "#d8576b"
            ],
            [
             0.6666666666666666,
             "#ed7953"
            ],
            [
             0.7777777777777778,
             "#fb9f3a"
            ],
            [
             0.8888888888888888,
             "#fdca26"
            ],
            [
             1.0,
             "#f0f921"
            ]
           ]
          },
          "colorway": [
           "#636efa",
           "#EF553B",
           "#00cc96",
           "#ab63fa",
           "#FFA15A",
           "#19d3f3",
           "#FF6692",
           "#B6E880",
           "#FF97FF",
           "#FECB52"
          ],
          "font": {
           "color": "#2a3f5f"
          },
          "geo": {
           "bgcolor": "white",
           "lakecolor": "white",
           "landcolor": "#E5ECF6",
           "showlakes": true,
           "showland": true,
           "subunitcolor": "white"
          },
          "hoverlabel": {
           "align": "left"
          },
          "hovermode": "closest",
          "mapbox": {
           "style": "light"
          },
          "paper_bgcolor": "white",
          "plot_bgcolor": "#E5ECF6",
          "polar": {
           "angularaxis": {
            "gridcolor": "white",
            "linecolor": "white",
            "ticks": ""
           },
           "bgcolor": "#E5ECF6",
           "radialaxis": {
            "gridcolor": "white",
            "linecolor": "white",
            "ticks": ""
           }
          },
          "scene": {
           "xaxis": {
            "backgroundcolor": "#E5ECF6",
            "gridcolor": "white",
            "gridwidth": 2,
            "linecolor": "white",
            "showbackground": true,
            "ticks": "",
            "zerolinecolor": "white"
           },
           "yaxis": {
            "backgroundcolor": "#E5ECF6",
            "gridcolor": "white",
            "gridwidth": 2,
            "linecolor": "white",
            "showbackground": true,
            "ticks": "",
            "zerolinecolor": "white"
           },
           "zaxis": {
            "backgroundcolor": "#E5ECF6",
            "gridcolor": "white",
            "gridwidth": 2,
            "linecolor": "white",
            "showbackground": true,
            "ticks": "",
            "zerolinecolor": "white"
           }
          },
          "shapedefaults": {
           "line": {
            "color": "#2a3f5f"
           }
          },
          "ternary": {
           "aaxis": {
            "gridcolor": "white",
            "linecolor": "white",
            "ticks": ""
           },
           "baxis": {
            "gridcolor": "white",
            "linecolor": "white",
            "ticks": ""
           },
           "bgcolor": "#E5ECF6",
           "caxis": {
            "gridcolor": "white",
            "linecolor": "white",
            "ticks": ""
           }
          },
          "title": {
           "x": 0.05
          },
          "xaxis": {
           "automargin": true,
           "gridcolor": "white",
           "linecolor": "white",
           "ticks": "",
           "title": {
            "standoff": 15
           },
           "zerolinecolor": "white",
           "zerolinewidth": 2
          },
          "yaxis": {
           "automargin": true,
           "gridcolor": "white",
           "linecolor": "white",
           "ticks": "",
           "title": {
            "standoff": 15
           },
           "zerolinecolor": "white",
           "zerolinewidth": 2
          }
         }
        },
        "title": {
         "text": "<b>Global Sources of Dietary Protein (1961-2022)</b>",
         "x": 0.5,
         "xanchor": "center"
        },
        "xaxis": {
         "anchor": "y",
         "domain": [
          0.0,
          1.0
         ],
         "gridcolor": "lightgray",
         "title": {
          "text": "Year"
         }
        },
        "yaxis": {
         "anchor": "x",
         "domain": [
          0.0,
          1.0
         ],
         "gridcolor": "lightgray",
         "range": [
          0,
          100
         ],
         "title": {
          "text": "Percentage of Total Protein"
         }
        }
       }
      }
     },
     "metadata": {},
     "output_type": "display_data"
    }
   ],
   "source": [
    "import pandas as pd\n",
    "import plotly.express as px\n",
    "\n",
    "df = pd.read_csv('../data/per-capita-sources-of-protein.csv')\n",
    "\n",
    "df.columns = [col.split('|')[0].strip() for col in df.columns]\n",
    "\n",
    "protein_cols = [\n",
    "    'Vegetal Products',\n",
    "    'Fish and seafood',\n",
    "    'Meat, total',\n",
    "    'All egg products',\n",
    "    'Milk'\n",
    "]\n",
    "\n",
    "df = df.dropna(subset=protein_cols)\n",
    "\n",
    "df_world = df.groupby('Year')[protein_cols].sum().reset_index()\n",
    "\n",
    "df_world['Total'] = df_world[protein_cols].sum(axis=1)\n",
    "\n",
    "for col in protein_cols:\n",
    "    df_world[col] = df_world[col] / df_world['Total'] * 100\n",
    "\n",
    "df_world = df_world.rename(columns={\n",
    "    'Vegetal Products': 'Plant',\n",
    "    'Fish and seafood': 'Fish',\n",
    "    'Meat, total': 'Meat',\n",
    "    'All egg products': 'Eggs',\n",
    "    'Milk': 'Dairy'\n",
    "})\n",
    "\n",
    "fig = px.area(\n",
    "    df_world,\n",
    "    x='Year',\n",
    "    y=['Plant', 'Fish', 'Meat', 'Eggs', 'Dairy'],\n",
    "    labels={\n",
    "        'value': 'Percentage of Total Protein',\n",
    "        'Year': 'Year',\n",
    "        'variable': 'Protein Source'\n",
    "    },\n",
    "    color_discrete_sequence=['#0a2463', '#3a5ba0', '#5b8cff', '#87cefa', '#b3e0ff']\n",
    ")\n",
    "\n",
    "fig.update_traces(\n",
    "    hovertemplate=\"<b>%{fullData.name}</b><br>%{y:.1f}%<extra></extra>\",\n",
    "    opacity=1\n",
    ")\n",
    "\n",
    "fig.update_layout(\n",
    "    hovermode='x unified',\n",
    "    legend_title_text='Protein Source',\n",
    "    plot_bgcolor='white',\n",
    "    yaxis=dict(\n",
    "        title='Percentage of Total Protein',\n",
    "        range=[0, 100],\n",
    "        gridcolor='lightgray'\n",
    "    ),\n",
    "    xaxis=dict(\n",
    "        title='Year',\n",
    "        gridcolor='lightgray'\n",
    "    ),\n",
    "    margin={'l': 30, 'b': 130, 'r': 30, 't': 30},\n",
    "    title={\n",
    "        'text': '<b>Global Sources of Dietary Protein (1961-2022)</b>',\n",
    "        'x': 0.5,\n",
    "        'xanchor': 'center'}, \n",
    "    font=dict(color='#0a2463'),\n",
    "    height=500\n",
    ")\n",
    "\n",
    "fig.add_annotation(x=0, y=-0.3,\n",
    "                   xref=\"paper\", yref=\"paper\",\n",
    "                   showarrow=False,\n",
    "                   align='left',\n",
    "                   xanchor='left', yanchor='bottom',\n",
    "                   text=\"Global sources of dietary protein between the years 1961-2022. <br>\" + \\\n",
    "                        'Hover to see specific data per year.<br>'\n",
    "                        'Toggle on or off different protein sources with the legend on the right.')\n",
    "\n",
    "fig.update_annotations(\n",
    "    font=dict(color='#0a2463')\n",
    ")\n",
    "\n",
    "fig.show()"
   ]
  },
  {
   "cell_type": "code",
   "execution_count": null,
   "id": "3aab7d6d-06cf-4f79-9b8c-f935bdf630dc",
   "metadata": {},
   "outputs": [],
   "source": []
  }
 ],
 "metadata": {
  "kernelspec": {
   "display_name": "Python 3 (ipykernel)",
   "language": "python",
   "name": "python3"
  },
  "language_info": {
   "codemirror_mode": {
    "name": "ipython",
    "version": 3
   },
   "file_extension": ".py",
   "mimetype": "text/x-python",
   "name": "python",
   "nbconvert_exporter": "python",
   "pygments_lexer": "ipython3",
   "version": "3.13.1"
  }
 },
 "nbformat": 4,
 "nbformat_minor": 5
}