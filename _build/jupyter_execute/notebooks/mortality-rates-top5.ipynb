{
 "cells": [
  {
   "cell_type": "code",
   "execution_count": 1,
   "metadata": {
    "colab": {
     "base_uri": "https://localhost:8080/",
     "height": 754
    },
    "id": "Mp_k4oDXyAtI",
    "outputId": "717182bf-c30b-483f-b0c8-aed3c23cbf9e"
   },
   "outputs": [
    {
     "ename": "ModuleNotFoundError",
     "evalue": "No module named 'pandas'",
     "output_type": "error",
     "traceback": [
      "\u001b[31m---------------------------------------------------------------------------\u001b[39m",
      "\u001b[31mModuleNotFoundError\u001b[39m                       Traceback (most recent call last)",
      "\u001b[36mCell\u001b[39m\u001b[36m \u001b[39m\u001b[32mIn[1]\u001b[39m\u001b[32m, line 1\u001b[39m\n\u001b[32m----> \u001b[39m\u001b[32m1\u001b[39m \u001b[38;5;28;01mimport\u001b[39;00m\u001b[38;5;250m \u001b[39m\u001b[34;01mpandas\u001b[39;00m\u001b[38;5;250m \u001b[39m\u001b[38;5;28;01mas\u001b[39;00m\u001b[38;5;250m \u001b[39m\u001b[34;01mpd\u001b[39;00m\n\u001b[32m      2\u001b[39m \u001b[38;5;28;01mimport\u001b[39;00m\u001b[38;5;250m \u001b[39m\u001b[34;01mmatplotlib\u001b[39;00m\u001b[34;01m.\u001b[39;00m\u001b[34;01mpyplot\u001b[39;00m\u001b[38;5;250m \u001b[39m\u001b[38;5;28;01mas\u001b[39;00m\u001b[38;5;250m \u001b[39m\u001b[34;01mplt\u001b[39;00m\n\u001b[32m      3\u001b[39m \u001b[38;5;28;01mimport\u001b[39;00m\u001b[38;5;250m \u001b[39m\u001b[34;01mnumpy\u001b[39;00m\u001b[38;5;250m \u001b[39m\u001b[38;5;28;01mas\u001b[39;00m\u001b[38;5;250m \u001b[39m\u001b[34;01mnp\u001b[39;00m\n",
      "\u001b[31mModuleNotFoundError\u001b[39m: No module named 'pandas'"
     ]
    }
   ],
   "source": [
    "import pandas as pd\n",
    "import matplotlib.pyplot as plt\n",
    "import numpy as np\n",
    "\n",
    "# Load and process data\n",
    "df = pd.read_csv('table5_whale-only_bycatch_data.csv')\n",
    "mortality_by_species = df[df['Observed Mortality rate (per set)'] > 0].groupby('Species (or group)')['Observed Mortality rate (per set)'].sum()\n",
    "sorted_species = mortality_by_species.sort_values(ascending=False)\n",
    "\n",
    "# Take top 6 and sum the rest into \"Other Whales\"\n",
    "top_5 = sorted_species.head(5)\n",
    "other_whales = pd.Series({'OTHER WHALES': sorted_species[5:].sum()})\n",
    "combined_data = pd.concat([top_5, other_whales])\n",
    "\n",
    "# Custom colors\n",
    "colors = [\n",
    "    \"#0a2463\", \"#2E4A88\", \"#5770A9\", \"#8D9FCC\", \"#C3D1EC\",  # Top 5\n",
    "    '#999999'  # \"Other Whales\"\n",
    "]\n",
    "\n",
    "# Create pie chart with rotation and leader lines\n",
    "plt.figure(figsize=(14, 10))\n",
    "wedges, texts, autotexts = plt.pie(\n",
    "    combined_data,\n",
    "    labels=None,  # Disable default labels (we'll add them manually)\n",
    "    autopct='%1.1f%%',\n",
    "    startangle=270,\n",
    "    colors=colors,\n",
    "    pctdistance=0.85,\n",
    "    textprops={'fontsize': 10, 'ha': 'center', 'va': 'center'}\n",
    ")\n",
    "\n",
    "for wedge, autotext in zip(wedges, autotexts):\n",
    "    if wedge.get_facecolor()[0] > 0.5:  # Light-colored wedge\n",
    "        autotext.set_color('black')\n",
    "    else:  # Dark-colored wedge\n",
    "        autotext.set_color('white')\n",
    "\n",
    "# Add leader lines and custom labels\n",
    "bbox_props = dict(boxstyle=\"round,pad=0.3\", fc=\"white\", ec=\"gray\", lw=0.5)  # Label box style\n",
    "\n",
    "for i, (wedge, label) in enumerate(zip(wedges, combined_data.index)):\n",
    "    # Calculate label angle (midpoint of the wedge)\n",
    "    ang = (wedge.theta2 - wedge.theta1) / 2. + wedge.theta1\n",
    "    y = np.sin(np.deg2rad(ang))  # Polar to Cartesian\n",
    "    x = np.cos(np.deg2rad(ang))\n",
    "    horizontalalignment = {-1: \"right\", 1: \"left\"}[int(np.sign(x))]\n",
    "    connectionstyle = f\"angle,angleA=0,angleB={ang}\"\n",
    "\n",
    "    # Place labels outside the pie with leader lines\n",
    "    plt.annotate(\n",
    "        label,\n",
    "        xy=(x, y),\n",
    "        xytext=(1.3 * np.sign(x), 1.3 * y),\n",
    "        horizontalalignment=horizontalalignment,\n",
    "        bbox=bbox_props,\n",
    "        arrowprops=dict(\n",
    "            arrowstyle=\"-\",  # Solid line\n",
    "            connectionstyle=connectionstyle,\n",
    "            color=\"gray\"\n",
    "        )\n",
    "    )\n",
    "\n",
    "# Title and formatting\n",
    "plt.title('Whale Bycatch Mortality Rates (Top 5)', pad=30, fontsize=14)\n",
    "plt.axis('equal')\n",
    "plt.tight_layout()\n",
    "plt.show()"
   ]
  }
 ],
 "metadata": {
  "colab": {
   "provenance": []
  },
  "kernelspec": {
   "display_name": "Python 3",
   "name": "python3"
  },
  "language_info": {
   "codemirror_mode": {
    "name": "ipython",
    "version": 3
   },
   "file_extension": ".py",
   "mimetype": "text/x-python",
   "name": "python",
   "nbconvert_exporter": "python",
   "pygments_lexer": "ipython3",
   "version": "3.13.2"
  }
 },
 "nbformat": 4,
 "nbformat_minor": 0
}