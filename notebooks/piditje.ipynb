{
 "cells": [
  {
   "cell_type": "code",
   "execution_count": null,
   "metadata": {},
   "outputs": [],
   "source": [
    "import pandas as pd\n",
    "import csv\n",
    "import plotly.express as px\n",
    "\n",
    "wb_df = pd.read_csv('../data/iunc_whales_only.csv')\n",
    "wb_df.head(n=1000)\n",
    "\n",
    "\n",
    "fig = px.histogram(wb_df, x=\"redlistCategory\")\n",
    "\n",
    "fig.update_layout(\n",
    "    title='Population trend',\n",
    "    height=600,\n",
    "    \n",
    ")\n",
    "fig.show()"
   ]
  }
 ],
 "metadata": {
  "kernelspec": {
   "display_name": "jupyterbook",
   "language": "python",
   "name": "python3"
  },
  "language_info": {
   "codemirror_mode": {
    "name": "ipython",
    "version": 3
   },
   "file_extension": ".py",
   "mimetype": "text/x-python",
   "name": "python",
   "nbconvert_exporter": "python",
   "pygments_lexer": "ipython3",
   "version": "3.10.16"
  }
 },
 "nbformat": 4,
 "nbformat_minor": 2
}
