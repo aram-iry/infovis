{
 "cells": [
  {
   "cell_type": "code",
   "execution_count": null,
   "id": "f88ba414-af8c-43ef-90be-f328c7ce1f37",
   "metadata": {},
   "outputs": [],
   "source": [
    "import pandas as pd\n",
    "import plotly.express as px\n",
    "\n",
    "# Data inladen\n",
    "df = pd.read_csv('../data/table5_whale-only_bycatch_data.csv')\n",
    "\n",
    "# Data voorbereiden\n",
    "mortality_by_species = df[df['Observed Mortality rate (per set)'] > 0].groupby('Species (or group)')['Observed Mortality rate (per set)'].sum()\n",
    "sorted_species = mortality_by_species.sort_values(ascending=False)\n",
    "\n",
    "top_5 = sorted_species.head(5)\n",
    "other_whales = pd.Series({'OTHER WHALES': sorted_species[5:].sum()})\n",
    "combined_data = pd.concat([top_5, other_whales]).reset_index()\n",
    "combined_data.columns = ['Species', 'Mortality']\n",
    "\n",
    "# Plotly kleuren (in dezelfde stijl)\n",
    "colors = [\n",
    "    \"#0a2463\", \"#2E4A88\", \"#5770A9\", \"#8D9FCC\", \"#C3D1EC\", \"#999999\"\n",
    "]\n",
    "\n",
    "# Plotly pie chart\n",
    "fig = px.pie(\n",
    "    combined_data,\n",
    "    names='Species',\n",
    "    values='Mortality',\n",
    "    color_discrete_sequence=colors,\n",
    "    title='Whale Bycatch Mortality Rates by Species',\n",
    ")\n",
    "\n",
    "# Layout styling (consistent met eerder)\n",
    "fig.update_layout(\n",
    "    title={\n",
    "        'text': 'Whale Bycatch Mortality Rates by Species',\n",
    "        'x': 0.5,\n",
    "        'xanchor': 'center'\n",
    "    },\n",
    "    height=600,\n",
    "    paper_bgcolor='white',\n",
    "    plot_bgcolor='white',\n",
    "    showlegend=True\n",
    ")\n",
    "\n",
    "# Hoverlabels duidelijker maken\n",
    "fig.update_traces(\n",
    "    hovertemplate='<b>%{label}</b><br>Mortality: %{value:.2f}<br>Percentage: %{percent}',\n",
    "    textinfo='percent'\n",
    ")\n",
    "\n",
    "fig.show()"
   ]
  }
 ],
 "metadata": {
  "kernelspec": {
   "display_name": "Python 3 (ipykernel)",
   "language": "python",
   "name": "python3"
  },
  "language_info": {
   "codemirror_mode": {
    "name": "ipython",
    "version": 3
   },
   "file_extension": ".py",
   "mimetype": "text/x-python",
   "name": "python",
   "nbconvert_exporter": "python",
   "pygments_lexer": "ipython3",
   "version": "3.13.2"
  }
 },
 "nbformat": 4,
 "nbformat_minor": 5
}
