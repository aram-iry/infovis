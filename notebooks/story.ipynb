{
  "cells": [
    {
      "cell_type": "markdown",
      "id": "5b2dae24-ad0b-45f8-bd5a-584078637b92",
      "metadata": {
        "id": "5b2dae24-ad0b-45f8-bd5a-584078637b92"
      },
      "source": [
        "# The Impact of Human Activity on Whale Populations"
      ]
    },
    {
      "cell_type": "markdown",
      "id": "99024dae",
      "metadata": {
        "id": "99024dae"
      },
      "source": [
        "For decades, whales have captivated both scientists and the public, their size and grace emblematic of the mysteries of the deep sea. Yet beneath the waves, these marine giants face mounting threats, many of them driven by human activity. Whales are vital to ocean health, playing key roles in food webs and the global carbon cycle. But over the past century, industrial-scale fishing and global shipping have introduced risks that now endanger the survival of many species. As demand for seafood and marine transport grows, so too do concerns about the sustainability of these industries and their impact on whale populations worldwide (Block & Amudson, 2020).\n",
        "\n",
        "While oversea transport and fishing is crucial for global trade, global food security, and coastal livelihoods, its side effects are increasingly hard to ignore. One particularly serious issue is whale bycatch, the accidental capture of whales in fishing gear. Combined with overlapping marine traffic and habitat disruption, these pressures raise urgent questions about how to balance marine resource use with conservation. Despite growing awareness, the scale and impact of these interactions remain difficult to quantify. (Moore et al., 2012)\n",
        "\n",
        "To shed light on this issue, we analyzed data from multiple marine datasets covering whale bycatch, whale and ship activity, and fishing activity across several regions and years. Our goal was to understand the scale and geography of interactions between whales and human activity on sea. In doing so, we aimed to identify which whale species are most exposed, which regions pose the highest risk, if the problem has gotten somewhat better over the years, and how data-driven policy could help protect marine life while supporting sustainable fishing practices."
      ]
    },
    {
      "cell_type": "markdown",
      "id": "_BbYa5a_HxCD",
      "metadata": {
        "id": "_BbYa5a_HxCD"
      },
      "source": [
        "## The Impact of Fishing Industries\n",
        "\n",
        "To understand the pressures facing whale populations today, it's essential to first examine the broader trajectory of the fishing industry itself. The graph below illustrates the dramatic growth in global fishery production over the past six decades, a trend that reflects not only rising global demand for seafood but also the intensification of industrial fishing practices."
      ]
    },
    {
      "cell_type": "code",
      "execution_count": null,
      "id": "8dcdd0ca",
      "metadata": {
        "id": "8dcdd0ca"
      },
      "outputs": [],
      "source": [
        "%run gdp.ipynb"
      ]
    },
    {
      "cell_type": "markdown",
      "id": "2BIBTw21H3RO",
      "metadata": {
        "id": "2BIBTw21H3RO"
      },
      "source": [
        "From 1960 to the late 1980s, global capture fisheries production experienced a steady and steep rise, growing from around 300 million metric tons to over 700 million. This surge coincided with post-war technological advances in fishing vessels, sonar tracking, and cold storage, tools that allowed fleets to venture farther and stay out longer. The 1980s and 1990s marked a second, steeper climb, with production peaking around 2000, approaching nearly 1 billion metric tons annually (Pauly et al., 2005).\n",
        "\n",
        "But the graph also tells a subtler story: since around 2000, global capture production has plateaued, with slight fluctuations but no sustained increase. This leveling off suggests that most of the world's major fisheries have reached or exceeded their sustainable limits. Declines after 2015 in some years may even hint at early signs of nature consideration or stock collapses in certain regions.\n",
        "\n",
        "For whales, this upward curve in fishing activity directly correlates with a rise in threats such as bycatch, gear entanglement, and habitat disruption. More fishing effort means more gear in the water, more ship traffic, and less available food in some shared ecosystems. Importantly, this global trend does not represent a uniform threat; certain regions and species are more exposed than others, as other graphs in this study show.\n",
        "\n",
        "In short, this graph captures the historical momentum behind today's marine pressures. While fisheries are essential for food security and livelihoods, their exponential growth over the past half-century has created widespread and systemic risks for marine megafauna like whales. Understanding these long-term trends helps frame the urgency for sustainable management, not just of fisheries, but of all life that shares the sea."
      ]
    },
    {
      "cell_type": "markdown",
      "id": "8rYbBzhVIYel",
      "metadata": {
        "id": "8rYbBzhVIYel"
      },
      "source": [
        "To understand the scope of this issue, we examined global fisheries production data. The map below shows total fisheries output by country, zoomed in to reflect the 95% range to avoid extreme outliers:"
      ]
    },
    {
      "cell_type": "code",
      "execution_count": null,
      "id": "799fe49c-8cdb-448f-8f32-ddd83fd7b818",
      "metadata": {
        "id": "799fe49c-8cdb-448f-8f32-ddd83fd7b818"
      },
      "outputs": [],
      "source": [
        "%run gdp2.ipynb"
      ]
    },
    {
      "cell_type": "code",
      "execution_count": null,
      "id": "bbd449fe",
      "metadata": {
        "id": "bbd449fe"
      },
      "outputs": [],
      "source": [
        "%run gdp3.ipynb"
      ]
    },
    {
      "cell_type": "markdown",
      "id": "cMo1MgIKIZzW",
      "metadata": {
        "id": "cMo1MgIKIZzW"
      },
      "source": [
        "We observe that countries with vast coastlines or industrialized fleets, such as those in East Asia, North America, and parts of Africa, tend to dominate production. This aligns with what we know about the scale of fishing operations, and also with where whale populations often come into conflict with these activities.\n",
        "\n",
        "From a data perspective, when plotted over time, total global fisheries production shows a sharp rise from the 1950s, peaking around 2000, and then stagnating. However, this plateau does not reflect reduced fishing pressure. Instead, it could imply that we've reached ecological limits in many regions. Despite stable yields, fishing effort, gear in the water, time at sea,  intensity has not decreased.\n",
        "\n",
        "One of the most devastating outcomes of industrial fishing is whale entanglement in gear such as gillnets, longlines, and trawls. These incidents, often fatal, are difficult to track and underreported, yet they are now among the leading causes of whale mortality.\n",
        "\n",
        "This map, although not explicitly marking whale-human incidents, helps identify hotspots of risk: where large-scale fisheries intersect with known whale habitats. Regions with dark blue shading, especially parts of Asia and the Americas, are critical areas where both production and ecological risk converge."
      ]
    },
    {
      "cell_type": "markdown",
      "id": "8nk2G6xGqrle",
      "metadata": {
        "id": "8nk2G6xGqrle"
      },
      "source": [
        "## Global Ship Strikes\n",
        "\n",
        "To assess another major risk — ship strikes — we analyzed global shipping and whale presence data, mapping strike probability for four different species."
      ]
    },
    {
      "cell_type": "code",
      "execution_count": null,
      "id": "76003ec0",
      "metadata": {
        "id": "76003ec0"
      },
      "outputs": [],
      "source": [
        "%run ship_strike_risk.ipynb"
      ]
    },
    {
      "cell_type": "markdown",
      "id": "NzLWp45Uq3g0",
      "metadata": {
        "id": "NzLWp45Uq3g0"
      },
      "source": [
        "The resulting heatmap shows that coastlines are the highest-risk zones. This is unsurprising: commercial vessels concentrate near land, where ports and shipping lanes are densest.\n",
        "\n",
        "Among species, Blue Whales face the gravest danger in the Indian Ocean, where strike probabilities soar as high as 0.9 across a wide area. Fin Whales appear less at risk near the equator, with hotspots just south of Africa and east of South America. Humpback Whales, likely due to their smaller size and different movement patterns, show relatively lower strike risk. Sperm Whales, however, are most threatened in the Mediterranean Sea, another zone with heavy ship traffic.\n",
        "\n",
        "Shipping intensity is highest in the Atlantic and Indian Oceans, but elevated risks are found globally. These patterns highlight how widespread the danger is — and how whale safety is intricately tied to global commerce routes."
      ]
    },
    {
      "cell_type": "markdown",
      "id": "Ub_nY4EFEnJa",
      "metadata": {
        "id": "Ub_nY4EFEnJa"
      },
      "source": [
        "## Whale Endangerment\n",
        "\n",
        "But just how threatened are whales overall? To answer this, we turned to the IUCN Red List, which tracks the conservation status of whale species globally."
      ]
    },
    {
      "cell_type": "code",
      "execution_count": null,
      "id": "4b90df03",
      "metadata": {
        "id": "4b90df03"
      },
      "outputs": [],
      "source": [
        "%run piditje.ipynb"
      ]
    },
    {
      "cell_type": "markdown",
      "id": "R9jaxXrhEq8I",
      "metadata": {
        "id": "R9jaxXrhEq8I"
      },
      "source": [
        "This graph reveals a mixed picture. Encouragingly, the majority of whale species fall under the “Least Concern” category, with over 45 species classified as having relatively stable populations. However, this should not obscure the serious challenges facing many others. At least 11 species are classified as Endangered, and 4 species as Critically Endangered, placing them at immediate risk of extinction. An additional 6 species are Vulnerable, meaning they are on a downward trend and could soon face more serious threats.\n",
        "\n",
        "These classifications matter in part because species listed as Endangered or Critically Endangered are often the same ones that have limited ranges, narrow feeding grounds, or specific migratory routes, exactly the traits that make them more likely to interact with industrial fishing and shipping. For example, the North Atlantic right whale, one of the most endangered large whale species, has a migratory path that overlaps heavily with high-traffic shipping corridors and fishing zones in the western Atlantic.\n",
        "\n",
        "Taken together, this data shows that while some whale species are doing relatively well, a significant number face immediate or emerging threats. And with many species lacking sufficient data, the true extent of the crisis may be underrepresented."
      ]
    },
    {
      "cell_type": "markdown",
      "id": "v5JfbJ_W34xt",
      "metadata": {
        "id": "v5JfbJ_W34xt"
      },
      "source": [
        "## Whale Bycatch\n",
        "\n",
        "Bycatch — the accidental capture of non-target species — remains one of the most deadly and underreported threats to whales. While it’s a known issue in fisheries, its specific toll on whales is often underestimated.\n",
        "\n",
        "The chart below breaks down the bycatch mortality rates by species, revealing the unequal burden placed on different marine mammals:"
      ]
    },
    {
      "cell_type": "code",
      "execution_count": null,
      "id": "190c275b-02f7-4100-8ef8-6c72a08f0048",
      "metadata": {
        "id": "190c275b-02f7-4100-8ef8-6c72a08f0048"
      },
      "outputs": [],
      "source": [
        "%run mortality_pie.ipynb"
      ]
    },
    {
      "cell_type": "markdown",
      "id": "csjJqleT4FZQ",
      "metadata": {
        "id": "csjJqleT4FZQ"
      },
      "source": [
        "As the chart shows, one species is disproportionately affected: the False Killer Whale, accounting for a staggering 55.1% of whale bycatch deaths. This single statistic underscores how certain species, due to their behavior, habitat, or social structure, are at far greater risk.\n",
        "\n",
        "Following this, Whale Sharks (24.4%) and Short-finned Pilot Whales (7.38%) also suffer significant losses. While not true whales, whale sharks often fall under similar protections—and their inclusion here reflects how entanglement risk extends across large marine species.\n",
        "\n",
        "Smaller but still concerning portions are seen in:\n",
        "\n",
        "- Other Whales (5.07%)\n",
        "- Pygmy Killer Whales (4.49%)\n",
        "- Blainville's Beaked Whales (3.5%)\n",
        "\n",
        "This diversity of species—ranging in size, behavior, and ocean zones—demonstrates that no whale species is completely safe from fisheries interactions."
      ]
    },
    {
      "cell_type": "markdown",
      "id": "5jGLMYds4WyS",
      "metadata": {
        "id": "5jGLMYds4WyS"
      },
      "source": [
        "## Whale Catching\n",
        "\n",
        "While less widespread than in the past, commercial whaling still occurs in a few countries. The chart below tracks whale catches by nation over several decades:"
      ]
    },
    {
      "cell_type": "code",
      "execution_count": null,
      "id": "892ecd31",
      "metadata": {
        "id": "892ecd31"
      },
      "outputs": [],
      "source": [
        "%run whale_catches_country.ipynb"
      ]
    },
    {
      "cell_type": "markdown",
      "id": "nBOEDI7_4pBg",
      "metadata": {
        "id": "nBOEDI7_4pBg"
      },
      "source": [
        "The graph implies that there was an enormous spike of whale fishing in the late 80s, which was probably before restrictions were imposed. Then after this, the whaling rate stays quite constant.\n",
        "\n",
        "In conclusion, whales are still fished for to this day, which is also a great danger to their survival. What makes this so prominent is the fact that this is one of the smallest causes of whale mortality, but still a cause nonetheless."
      ]
    },
    {
      "cell_type": "markdown",
      "id": "Qbp4tWPX7EWt",
      "metadata": {
        "id": "Qbp4tWPX7EWt"
      },
      "source": [
        "## Summary\n",
        "\n",
        "Whales face an array of threats in today's ocean, many of which are driven by human activity. Global fisheries production has increased dramatically since the mid-20th century, expanding into new regions and intensifying the risks for marine mammals. Although production has plateaued since 2000, the threat remains: fishing gear continues to entangle and kill whales, often unintentionally, through bycatch. Certain species, like the False Killer Whale, suffer disproportionately, making up over 55% of recorded bycatch-related mortalities.\n",
        "\n",
        "Beyond bycatch, ship strikes also present a major hazard, especially in heavily trafficked waters. These incidents, though less visible, are often fatal and underreported. Combined with historical and in some cases ongoing whale catching, these pressures push many populations toward endangerment.\n",
        "\n",
        "The global map of marine ship activity illustrates how regions with the highest yields often overlap with whale migratory routes, intensifying the risk. Ultimately, whale endangerment isn't caused by one factor, but a convergence of industrial fishing, vessel traffic, and insufficient regulation.\n",
        "\n",
        "Together, the data reveal a troubling pattern: the same systems that sustain human demand for seafood and transport are simultaneously endangering one of the ocean's most iconic and essential species. Urgent, targeted action is needed."
      ]
    }
  ],
  "metadata": {
    "colab": {
      "provenance": []
    },
    "kernelspec": {
      "display_name": "Python 3 (ipykernel)",
      "language": "python",
      "name": "python3"
    },
    "language_info": {
      "codemirror_mode": {
        "name": "ipython",
        "version": 3
      },
      "file_extension": ".py",
      "mimetype": "text/x-python",
      "name": "python",
      "nbconvert_exporter": "python",
      "pygments_lexer": "ipython3",
      "version": "3.12.3"
    }
  },
  "nbformat": 4,
  "nbformat_minor": 5
}