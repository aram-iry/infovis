{
  "cells": [
    {
      "cell_type": "markdown",
      "id": "5b2dae24-ad0b-45f8-bd5a-584078637b92",
      "metadata": {
        "id": "5b2dae24-ad0b-45f8-bd5a-584078637b92"
      },
      "source": [
        "# The Impact of Human Activity on Whale Populations"
      ]
    },
    {
      "cell_type": "markdown",
      "id": "99024dae",
      "metadata": {
        "id": "99024dae"
      },
      "source": [
        "For decades, the vast and mysterious presence of whales has captivated both scientists and the public alike. These marine giants serve vital ecological functions, from regulating food webs to contributing to the global carbon cycle. Yet in the last century, the pressures exerted by industrial-scale fishing have brought their survival into question. As demand for seafood rises, concerns grow over the consequences this industry may have on the health of whale populations worldwide. (Block & Amudson, 2020)\n",
        "\n",
        "While oversea transport and fishing is crucial for global trade, global food security, and coastal livelihoods, its side effects are increasingly hard to ignore. One particularly serious issue is whale bycatch, the accidental capture of whales in fishing gear. Combined with overlapping marine traffic and habitat disruption, these pressures raise urgent questions about how to balance marine resource use with conservation. Despite growing awareness, the scale and impact of these interactions remain difficult to quantify. (Moore et al., 2012)\n",
        "\n",
        "To shed light on this issue, we analyzed data from multiple marine datasets covering whale bycatch, whale and ship activity, and fishing activity across several regions and years. Our goal was to understand the scale and geography of interactions between whales and human activity on sea. In doing so, we aimed to identify which whale species are most exposed, which regions pose the highest risk, if the problem has gotten somewhat better over the years, and how data-driven policy could help protect marine life while supporting sustainable fishing practices."
      ]
    },
    {
      "cell_type": "markdown",
      "id": "_BbYa5a_HxCD",
      "metadata": {
        "id": "_BbYa5a_HxCD"
      },
      "source": [
        "# The Impact of Fishing Industries\n",
        "\n",
        "To understand the pressures facing whale populations today, it's essential to first examine the broader trajectory of the fishing industry itself. The graph below illustrates the dramatic growth in global fishery production over the past six decades, a trend that reflects not only rising global demand for seafood but also the intensification of industrial fishing practices."
      ]
    },
    {
      "cell_type": "code",
      "execution_count": null,
      "id": "8dcdd0ca",
      "metadata": {
        "id": "8dcdd0ca"
      },
      "outputs": [],
      "source": [
        "%run gdp.ipynb"
      ]
    },
    {
      "cell_type": "markdown",
      "id": "2BIBTw21H3RO",
      "metadata": {
        "id": "2BIBTw21H3RO"
      },
      "source": [
        "From 1960 to the late 1980s, global capture fisheries production experienced a steady and steep rise, growing from around 300 million metric tons to over 700 million. This surge coincided with post-war technological advances in fishing vessels, sonar tracking, and cold storage, tools that allowed fleets to venture farther and stay out longer. The 1980s and 1990s marked a second, steeper climb, with production peaking around 2000, approaching nearly 1 billion metric tons annually (Pauly et al., 2005).\n",
        "\n",
        "But the graph also tells a subtler story: since around 2000, global capture production has plateaued, with slight fluctuations but no sustained increase. This leveling off suggests that most of the world's major fisheries have reached or exceeded their sustainable limits. Declines after 2015 in some years may even hint at early signs of nature consideration or stock collapses in certain regions.\n",
        "\n",
        "For whales, this upward curve in fishing activity directly correlates with a rise in threats such as bycatch, gear entanglement, and habitat disruption. More fishing effort means more gear in the water, more ship traffic, and less available food in some shared ecosystems. Importantly, this global trend does not represent a uniform threat; certain regions and species are more exposed than others, as other graphs in this study show.\n",
        "\n",
        "In short, this graph captures the historical momentum behind today's marine pressures. While fisheries are essential for food security and livelihoods, their exponential growth over the past half-century has created widespread and systemic risks for marine megafauna like whales. Understanding these long-term trends helps frame the urgency for sustainable management, not just of fisheries, but of all life that shares the sea."
      ]
    },
    {
      "cell_type": "markdown",
      "id": "8rYbBzhVIYel",
      "metadata": {
        "id": "8rYbBzhVIYel"
      },
      "source": [
        "To understand the scope of this issue, we examined global fisheries production data. The map below shows total fisheries output by country, zoomed in to reflect the 95% range to avoid extreme outliers:"
      ]
    },
    {
      "cell_type": "code",
      "execution_count": null,
      "id": "799fe49c-8cdb-448f-8f32-ddd83fd7b818",
      "metadata": {
        "id": "799fe49c-8cdb-448f-8f32-ddd83fd7b818"
      },
      "outputs": [],
      "source": [
        "%run gdp2.ipynb"
      ]
    },
    {
      "cell_type": "markdown",
      "id": "cMo1MgIKIZzW",
      "metadata": {
        "id": "cMo1MgIKIZzW"
      },
      "source": [
        "We observe that countries with vast coastlines or industrialized fleets, such as those in East Asia, North America, and parts of Africa, tend to dominate production. This aligns with what we know about the scale of fishing operations, and also with where whale populations often come into conflict with these activities.\n",
        "\n",
        "From a data perspective, when plotted over time, total global fisheries production shows a sharp rise from the 1950s, peaking around 2000, and then stagnating. However, this plateau does not reflect reduced fishing pressure. Instead, it could imply that we've reached ecological limits in many regions. Despite stable yields, fishing effort, gear in the water, time at sea,  intensity has not decreased.\n",
        "\n",
        "One of the most devastating outcomes of industrial fishing is whale entanglement in gear such as gillnets, longlines, and trawls. These incidents, often fatal, are difficult to track and underreported, yet they are now among the leading causes of whale mortality.\n",
        "\n",
        "This map, although not explicitly marking whale-human incidents, helps identify hotspots of risk: where large-scale fisheries intersect with known whale habitats. Regions with dark blue shading, especially parts of Asia and the Americas, are critical areas where both production and ecological risk converge."
      ]
    },
    {
      "cell_type": "markdown",
      "id": "8nk2G6xGqrle",
      "metadata": {
        "id": "8nk2G6xGqrle"
      },
      "source": [
        "# Global Ship Strikes\n",
        "\n",
        "To analyse how dangerous human activity really is to whales, we analyzed a dataset which includes ship activity and whale activity from around the globe. With this, we created a heatmap, showing where the greatest risk of ship strikes is, for four different whale species:"
      ]
    },
    {
      "cell_type": "code",
      "execution_count": null,
      "id": "76003ec0",
      "metadata": {
        "id": "76003ec0"
      },
      "outputs": [],
      "source": [
        "%run ship_strike_risk.ipynb"
      ]
    },
    {
      "cell_type": "markdown",
      "id": "NzLWp45Uq3g0",
      "metadata": {
        "id": "NzLWp45Uq3g0"
      },
      "source": [
        "In this map it is clearly visible that the highest risk (all whales included) occurs along the coastlines of all main continents, this is because the ships all come from and have destinations on land.\n",
        "\n",
        "- For Blue Whales, the greatest risk is in the Indian Ocean, where the probability of a ship strike jumps up to 0.9 in a large area, there is still risk almost everywhere else, but that is the most dangerous region.\n",
        "- This map implies that Fin Whales do not come close to the equator, and the only regions where probabilities are immensely high is just south of Africa and east of South America.\n",
        "- Humpback Whales seem to have the lowest probabilities of being struck by ships, this is probably because of their size — they are the smallest of the four — which makes it easier for them to be avoided.\n",
        "- Sperm whales' highest probabilities of being struck lay in the Mediterranean Sea, this is the region where the probabilities again rocket up to 0.9.\n",
        "- Shipping density seems to be most dense in the Atlantic Ocean and in the Indian Ocean, but it also seems to be dense all around the world.\n",
        "\n",
        "All in all, the riskiest areas are spread all around the world, with Blue Whales being most vulnerable in the Indian Ocean, while Sperm Whales seem to be more in danger in the Mediterranean Sea."
      ]
    },
    {
      "cell_type": "markdown",
      "id": "Ub_nY4EFEnJa",
      "metadata": {
        "id": "Ub_nY4EFEnJa"
      },
      "source": [
        "# Whale Endangerment\n",
        "\n",
        "To assess the dangers that whales have to deal with, we first have to see if this problem is actually as big as it is implied to be. To tell if it is, we used the IUCN Red List of threatened species, to give us an idea of how endangered every single species of whale actually is, this is visualized in the graph below:"
      ]
    },
    {
      "cell_type": "code",
      "execution_count": null,
      "id": "4b90df03",
      "metadata": {
        "id": "4b90df03"
      },
      "outputs": [],
      "source": [
        "%run piditje.ipynb"
      ]
    },
    {
      "cell_type": "markdown",
      "id": "R9jaxXrhEq8I",
      "metadata": {
        "id": "R9jaxXrhEq8I"
      },
      "source": [
        "This graph reveals a mixed picture. Encouragingly, the majority of whale species fall under the “Least Concern” category, with over 45 species classified as having relatively stable populations. However, this should not obscure the serious challenges facing many others. At least 11 species are classified as Endangered, and 4 species as Critically Endangered, placing them at immediate risk of extinction. An additional 6 species are Vulnerable, meaning they are on a downward trend and could soon face more serious threats.\n",
        "\n",
        "These classifications matter in part because species listed as Endangered or Critically Endangered are often the same ones that have limited ranges, narrow feeding grounds, or specific migratory routes, exactly the traits that make them more likely to interact with industrial fishing and shipping. For example, the North Atlantic right whale, one of the most endangered large whale species, has a migratory path that overlaps heavily with high-traffic shipping corridors and fishing zones in the western Atlantic.\n",
        "\n",
        "Taken together, this data shows that while some whale species are doing relatively well, a significant number face immediate or emerging threats. And with many species lacking sufficient data, the true extent of the crisis may be underrepresented."
      ]
    },
    {
      "cell_type": "markdown",
      "id": "v5JfbJ_W34xt",
      "metadata": {
        "id": "v5JfbJ_W34xt"
      },
      "source": [
        "# Whale Bycatch\n",
        "\n",
        "Whales, the sentinels of the sea, are increasingly facing a silent but deadly threat, not from hunting or pollution alone, but from the fishing gear meant to feed human populations. While bycatch (the unintended capture of non-target species) is an acknowledged issue in global fisheries, its specific toll on whale species is often overlooked.\n",
        "\n",
        "The chart below breaks down the bycatch mortality rates by species, revealing the unequal burden placed on different marine mammals:"
      ]
    },
    {
      "cell_type": "code",
      "execution_count": null,
      "id": "190c275b-02f7-4100-8ef8-6c72a08f0048",
      "metadata": {
        "id": "190c275b-02f7-4100-8ef8-6c72a08f0048"
      },
      "outputs": [],
      "source": [
        "%run mortality_pie.ipynb"
      ]
    },
    {
      "cell_type": "markdown",
      "id": "csjJqleT4FZQ",
      "metadata": {
        "id": "csjJqleT4FZQ"
      },
      "source": [
        "As the chart shows, one species is disproportionately affected: the False Killer Whale, accounting for a staggering 55.1% of whale bycatch deaths. This single statistic underscores how certain species, due to their behavior, habitat, or social structure, are at far greater risk.\n",
        "\n",
        "Following this, Whale Sharks (24.4%) and Short-finned Pilot Whales (7.38%) also suffer significant losses. While not true whales, whale sharks often fall under similar protections—and their inclusion here reflects how entanglement risk extends across large marine species.\n",
        "\n",
        "Smaller but still concerning portions are seen in:\n",
        "\n",
        "- Other Whales (5.07%)\n",
        "- Pygmy Killer Whales (4.49%)\n",
        "- Blainville's Beaked Whales (3.5%)\n",
        "\n",
        "This diversity of species—ranging in size, behavior, and ocean zones—demonstrates that no whale species is completely safe from fisheries interactions."
      ]
    },
    {
      "cell_type": "markdown",
      "id": "5jGLMYds4WyS",
      "metadata": {
        "id": "5jGLMYds4WyS"
      },
      "source": [
        "# Whale Catching\n",
        "\n",
        "Some countries also fish for whales, instead of just for other marine species. In the graph below it can be seen just how many whales were fished for throughout the years:"
      ]
    },
    {
      "cell_type": "code",
      "execution_count": null,
      "id": "892ecd31",
      "metadata": {
        "id": "892ecd31"
      },
      "outputs": [],
      "source": [
        "%run whale_catches_country.ipynb"
      ]
    },
    {
      "cell_type": "markdown",
      "id": "nBOEDI7_4pBg",
      "metadata": {
        "id": "nBOEDI7_4pBg"
      },
      "source": [
        "The graph implies that there was an enormous spike of whale fishing in the late 80s, which was probably before regulations were introduced. Then after this, Japan stays at the top, fishing the most for fish in the entire period of time included in the graph. Norway also joins Japan around the 90s, which could mean the trend of whale fishing came back in the 90s, as other countries began fishing more as well.\n",
        "\n",
        "In conclusion, whales are still fished for to this day, which is also a great danger to their survival. What makes this so prominent is the fact that this is one of the smallest causes of whale mortality, but still a cause nonetheless."
      ]
    },
    {
      "cell_type": "markdown",
      "id": "Qbp4tWPX7EWt",
      "metadata": {
        "id": "Qbp4tWPX7EWt"
      },
      "source": [
        "# Summary\n",
        "\n",
        "Whales face an array of threats in today's ocean, many of which are driven by human activity. Global fisheries production has increased dramatically since the mid-20th century, expanding into new regions and intensifying the risks for marine mammals. Although production has plateaued since 2000, the threat remains: fishing gear continues to entangle and kill whales, often unintentionally, through bycatch. Certain species, like the False Killer Whale, suffer disproportionately, making up over 55% of recorded bycatch-related mortalities.\n",
        "\n",
        "Beyond bycatch, ship strikes also present a major hazard, especially in heavily trafficked waters. These incidents, though less visible, are often fatal and underreported. Combined with historical and in some cases ongoing whale catching, these pressures push many populations toward endangerment.\n",
        "\n",
        "The global map of marine ship activity illustrates how regions with the highest yields often overlap with whale migratory routes, intensifying the risk. Ultimately, whale endangerment isn't caused by one factor, but a convergence of industrial fishing, vessel traffic, and insufficient regulation.\n",
        "\n",
        "Together, the data reveal a troubling pattern: the same systems that sustain human demand for seafood and transport are simultaneously endangering one of the ocean's most iconic and essential species. Urgent, targeted action is needed."
      ]
    }
  ],
  "metadata": {
    "colab": {
      "provenance": []
    },
    "kernelspec": {
      "display_name": "Python 3 (ipykernel)",
      "language": "python",
      "name": "python3"
    },
    "language_info": {
      "codemirror_mode": {
        "name": "ipython",
        "version": 3
      },
      "file_extension": ".py",
      "mimetype": "text/x-python",
      "name": "python",
      "nbconvert_exporter": "python",
      "pygments_lexer": "ipython3",
      "version": "3.12.3"
    }
  },
  "nbformat": 4,
  "nbformat_minor": 5
}