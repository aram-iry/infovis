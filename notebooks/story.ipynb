{
 "cells": [
  {
   "cell_type": "markdown",
   "id": "5b2dae24-ad0b-45f8-bd5a-584078637b92",
   "metadata": {
    "id": "5b2dae24-ad0b-45f8-bd5a-584078637b92"
   },
   "source": [
    "# The Impact of Human Activity on Whale Populations"
   ]
  },
  {
   "cell_type": "markdown",
   "id": "dca0da6b",
   "metadata": {},
   "source": [
    "![Banner](../_build/html/_static/images/underwater.jpg)"
   ]
  },
  {
   "cell_type": "markdown",
   "id": "99024dae",
   "metadata": {
    "id": "99024dae"
   },
   "source": [
    "To explore the dynamics between fishing yield and whale protection, we analyzed marine data on whale sightings, fishing activity, and ship movements across multiple regions and years. Our goal was to understand the scale and geography of interactions between whales and human activity. By presenting both ecological and economic perspectives, we hope to contribute to a more nuanced understanding of how marine space can be managed to serve multiple priorities."
   ]
  },
  {
   "cell_type": "markdown",
   "id": "_BbYa5a_HxCD",
   "metadata": {
    "id": "_BbYa5a_HxCD"
   },
   "source": [
    "## The Scale of the Fishing Industry\n",
    "\n",
    "We began by examining the scale of the global fishing industry to provide context for the data story. Understanding how large and widespread fisheries have become over the past decades helps frame the intensity of human activity in marine environments. "
   ]
  },
  {
   "cell_type": "code",
   "execution_count": null,
   "id": "8dcdd0ca",
   "metadata": {
    "id": "8dcdd0ca",
    "tags": [
     "remove-input"
    ]
   },
   "outputs": [],
   "source": [
    "%run global_total_production.ipynb"
   ]
  },
  {
   "cell_type": "markdown",
   "id": "2BIBTw21H3RO",
   "metadata": {
    "id": "2BIBTw21H3RO"
   },
   "source": [
    "From 1960 to the late 1980s, global capture fisheries production experienced a steady and steep rise. This surge coincided with post-war technological advances in the fishing industry (Pauly et al., 2005).\n",
    "\n",
    "Since around 2000, global capture production has plateaued, with slight fluctuations but no sustained increase, which suggests that most of the world’s major fisheries have reached or exceeded their sustainable limits.\n",
    "\n",
    "The question that arises from this visualisation is whether the growth of capture fishery productions is the cause of increased whale deaths."
   ]
  },
  {
   "cell_type": "markdown",
   "id": "8rYbBzhVIYel",
   "metadata": {
    "id": "8rYbBzhVIYel"
   },
   "source": [
    "To understand where fishing activity is most concentrated, we looked at total capture fisheries production by country. This helps identify key players in the industry and regions where the intensity of fishing may be most likely to intersect with marine wildlife. The maps below show total fisheries output by country since 1960, cumulative and annually respectively, zoomed in to reflect the 95% range to avoid extreme outliers."
   ]
  },
  {
   "cell_type": "code",
   "execution_count": null,
   "id": "799fe49c-8cdb-448f-8f32-ddd83fd7b818",
   "metadata": {
    "id": "799fe49c-8cdb-448f-8f32-ddd83fd7b818",
    "tags": [
     "remove-input"
    ]
   },
   "outputs": [],
   "source": [
    "%run total_production_country.ipynb"
   ]
  },
  {
   "cell_type": "code",
   "execution_count": null,
   "id": "bbd449fe",
   "metadata": {
    "id": "bbd449fe",
    "tags": [
     "remove-input"
    ]
   },
   "outputs": [],
   "source": [
    "%run annual_production_country.ipynb"
   ]
  },
  {
   "cell_type": "markdown",
   "id": "cMo1MgIKIZzW",
   "metadata": {
    "id": "cMo1MgIKIZzW"
   },
   "source": [
    "The geographic distribution of the capture fisheries production reveals a clear pattern: production is especially concentrated along the coasts of the Pacific, Meditteranean and Indian Oceans. The darker shading in these regions reflects sustained, high levels of extraction over decades.\n",
    "\n",
    "When plotted over time, total global fisheries production shows a sharp rise from the 1960s, peaking around 2000, and then stagnating. However, this plateau suggests, again, that limits have been reached. \n",
    "\n",
    "This map, although not explicitly marking whale-human incidents, helps pinpoint regions where intensive fishing is most likely to overlap with whale migration routes and habitats. Regions with dark blue shading, especially parts of Asia and the Americas, are critical areas where both production and ecological risk converge."
   ]
  },
  {
   "cell_type": "markdown",
   "id": "681830d4",
   "metadata": {
    "id": "681830d4"
   },
   "source": [
    "## The Economic Contribution of the Fishing Industry"
   ]
  },
  {
   "cell_type": "markdown",
   "id": "gXGo9l1bsesg",
   "metadata": {
    "id": "gXGo9l1bsesg"
   },
   "source": [
    "To place the fishing industry in a broader economic context, we next looked at its revenue as a percentage of global GDP. This helps illustrate not just the scale of fishing in physical terms, but its relative economic weight, offering insight into how significant the industry is compared to the wider global economy."
   ]
  },
  {
   "cell_type": "code",
   "execution_count": null,
   "id": "aac8225f",
   "metadata": {
    "id": "aac8225f",
    "tags": [
     "remove-input"
    ]
   },
   "outputs": [],
   "source": [
    "%run fishing_revenue.ipynb"
   ]
  },
  {
   "cell_type": "markdown",
   "id": "ZFwZY9R7sh48",
   "metadata": {
    "id": "ZFwZY9R7sh48"
   },
   "source": [
    "This graph shows a significant downward trend. In the early 1990s, the industry contributed around 0.0023-0.0025% of global GDP. By the mid-2000s, this had dropped below 0.0015%, and in the last decade, it has hovered below 0.0010%, with minor fluctuations.\n",
    "\n",
    "In macroeconomic terms, these are extremely small percentages. While fishing remains vital for certain regions, jobs, and food systems, its direct financial footprint on the global economy is marginal.\n"
   ]
  },
  {
   "cell_type": "markdown",
   "id": "mUQXDFSl9ZRw",
   "metadata": {
    "id": "mUQXDFSl9ZRw"
   },
   "source": [
    "## The Nutritional Importance of the Fishing Industry"
   ]
  },
  {
   "cell_type": "markdown",
   "id": "f4e99bab",
   "metadata": {},
   "source": [
    "While the fishing industry may represent a small share of global GDP, we know that its value extends far beyond economics. In many parts of the world, fish is a crucial source of nutrition, particularly protein, and plays a key role in food security. In this section, we explored the nutritional importance of the fishing industry and how its output contributes to diets."
   ]
  },
  {
   "cell_type": "code",
   "execution_count": null,
   "id": "Hu2-flhs9hAS",
   "metadata": {
    "id": "Hu2-flhs9hAS",
    "tags": [
     "remove-input"
    ]
   },
   "outputs": [],
   "source": [
    "%run fish_seafood_consumption.ipynb"
   ]
  },
  {
   "cell_type": "markdown",
   "id": "pGqp3GGuF0xp",
   "metadata": {
    "id": "pGqp3GGuF0xp"
   },
   "source": [
    "This graph illustrates that global fish and seafood consumption has risen from just over 2,000 kg/year in the early 1960s to nearly 4,500 kg/year by the early 2020s. This trend reflects a growing demand for aquatic protein globally.\n",
    "\n",
    "As consumption continues to grow, the question is whether the challenges of managing marine resources sustainably also continue to grow."
   ]
  },
  {
   "cell_type": "markdown",
   "id": "e18356be",
   "metadata": {},
   "source": [
    "To put fish consumption in perspective, we next compared it to other sources of dietary protein. This allowed us to see how significant fish and seafood are relative to meat, eggs, dairy, and plant-based proteins in the global food system."
   ]
  },
  {
   "cell_type": "code",
   "execution_count": null,
   "id": "FPraCtP8FwmM",
   "metadata": {
    "id": "FPraCtP8FwmM",
    "tags": [
     "remove-input"
    ]
   },
   "outputs": [],
   "source": [
    "%run global_protein_sources.ipynb"
   ]
  },
  {
   "cell_type": "markdown",
   "id": "3152070c",
   "metadata": {},
   "source": [
    "It is clearly visible that the share of fish in the global sources of dietary protein has more or less stayed constant since 1960, even though fish intake in absolute terms has more than doubled (from the last graph). As a result, fish continues to play an important role in feeding the world, even if its share of the total protein mix remains modest."
   ]
  },
  {
   "cell_type": "markdown",
   "id": "8nk2G6xGqrle",
   "metadata": {
    "id": "8nk2G6xGqrle"
   },
   "source": [
    "## Whale Ship Strikes\n",
    "\n",
    "While the fishing industry plays a role in global nutrition and livelihoods, its presence, along with that of global shipping, could bring risks for marine life. In the following section, we shift focus from the human benefits of ocean industries to their impact on whales, starting with a look at global ship strike risk."
   ]
  },
  {
   "cell_type": "code",
   "execution_count": null,
   "id": "76003ec0",
   "metadata": {
    "id": "76003ec0",
    "tags": [
     "remove-input"
    ]
   },
   "outputs": [],
   "source": [
    "%run ship_strike_risk.ipynb"
   ]
  },
  {
   "cell_type": "code",
   "execution_count": null,
   "id": "346ee069",
   "metadata": {
    "tags": [
     "remove-input"
    ]
   },
   "outputs": [],
   "source": [
    "%run fishing_vessels_risk.ipynb"
   ]
  },
  {
   "cell_type": "markdown",
   "id": "NzLWp45Uq3g0",
   "metadata": {
    "id": "NzLWp45Uq3g0"
   },
   "source": [
    "The first heatmap shows us that coastlines are the highest-risk zones for ship strikes. This could be explained by the fact that commercial vessels concentrate near land, where ports and shipping lanes are densest.\n",
    "\n",
    "Among species, Blue Whales face the gravest danger in the Indian Ocean, where strike risks soar as high as 0.9 across a wide area. This aligns with known migratory paths that intersect major east-west shipping routes, making mitigation particularly challenging. Humpback Whales, likely due to their smaller size and different movement patterns, show relatively lower strike risk, though still non-negligible in coastal hotspots. Sperm Whales, however, are most threatened in the Mediterranean Sea, another zone with heavy ship traffic and limited spatial separation between whales and vessels due to the confined geography of the region.\n"
   ]
  },
  {
   "cell_type": "markdown",
   "id": "6b83a711",
   "metadata": {},
   "source": [
    "The second heatmap shows fishing vessel intensity as well as its overlap with whale habitats and reveals zones where high whale presence coincides with concentrated fishing activity. In these overlap areas, whales may face increased threats from human activities.\n",
    "\n",
    "The Mediterranean Sea especially stands out as a region of concern for Sperm Whales, who already face high ship strike risks there. Notably, Sperm Whales are classified as vulnerable on the IUCN Red List of endangerment (which will be covered later). Fishing vessel density is also pretty high along the coast of China. Here, both Humpback- and Blue Whales reside. Furthermore, Blue Whales are classified as endangered. This underlines the importance of monitoring these shared spaces."
   ]
  },
  {
   "cell_type": "markdown",
   "id": "Ub_nY4EFEnJa",
   "metadata": {
    "id": "Ub_nY4EFEnJa"
   },
   "source": [
    "## Whale Endangerment\n",
    "\n",
    "To better understand which whales are most vulnerable to human activity, we next looked at their conservation status. We wanted to look at both which species are most at risk and may be less able to withstand additional risks from human activity, and how many species are in this category."
   ]
  },
  {
   "cell_type": "code",
   "execution_count": null,
   "id": "4b90df03",
   "metadata": {
    "id": "4b90df03",
    "tags": [
     "remove-input"
    ]
   },
   "outputs": [],
   "source": [
    "%run endangerment_classification.ipynb"
   ]
  },
  {
   "cell_type": "markdown",
   "id": "R9jaxXrhEq8I",
   "metadata": {
    "id": "R9jaxXrhEq8I"
   },
   "source": [
    "This data shows that while some whale species are doing relatively well, a number of species face immediate or emerging threats. Namely, approximately a quarter of species are either vulnerable or (critically) endangered. \n",
    "And with many species lacking sufficient data, the true extent of the crisis may be underrepresented."
   ]
  },
  {
   "cell_type": "markdown",
   "id": "5jGLMYds4WyS",
   "metadata": {
    "id": "5jGLMYds4WyS"
   },
   "source": [
    "## Whale Catching\n",
    "\n",
    "While less widespread than in the past, commercial whaling still occurs in a few countries. We looked at the amount of whales caught over time, to understand the historical scale of direct human exploitation and how it compares to more modern threats like ship strikes."
   ]
  },
  {
   "cell_type": "code",
   "execution_count": null,
   "id": "892ecd31",
   "metadata": {
    "id": "892ecd31",
    "tags": [
     "remove-input"
    ]
   },
   "outputs": [],
   "source": [
    "%run whale_catches.ipynb"
   ]
  },
  {
   "cell_type": "markdown",
   "id": "nBOEDI7_4pBg",
   "metadata": {
    "id": "nBOEDI7_4pBg"
   },
   "source": [
    "The graph implies that there was an enormous spike in whale catches during the late 1980s, likely just before major international restrictions, such as the 1986 moratorium by the International Whaling Commission, came into effect (IWC, 2025). After this peak, the whaling rate stabilizes at a much lower level, though it does not disappear entirely.\n",
    "\n",
    "Whales are still being hunted to this day, which remains a significant concern for their conservation. The continued existence of whaling highlights the complex challenges in balancing cultural practices, economic interests, and wildlife protection."
   ]
  },
  {
   "cell_type": "markdown",
   "id": "Qbp4tWPX7EWt",
   "metadata": {
    "id": "Qbp4tWPX7EWt"
   },
   "source": [
    "## Summary\n",
    "This datastory has revealed some notable insights on the conundrum between whale protection and marine human activity:\n",
    "\n",
    "Despite its declining share of global GDP, fishing remains nutritionally critical, with seafood consumption more than doubling since the 1960s and fish remaining an indispensable protein source. Meanwhile, shipping and fishing intensity can overlap with whale habitats, namely for endangered species like Blue Whales in the Indian Ocean and Sperm Whales in the Mediterranean. While many whale species are classified as \"Least Concern,\" nearly 20% are endangered or critically endangered, underscoring the urgency of conservation efforts. Finally, although commercial whaling has declined since the 1980s moratorium, it persists, adding to cumulative pressures.\n",
    "\n",
    "<b>Given the complexity of interactions between human activity and marine life, how these dynamics will shape the future of whale populations remains an open question.</b>"
   ]
  }
 ],
 "metadata": {
  "celltoolbar": "Tags",
  "colab": {
   "provenance": []
  },
  "kernelspec": {
   "display_name": "Python 3 (ipykernel)",
   "language": "python",
   "name": "python3"
  },
  "language_info": {
   "codemirror_mode": {
    "name": "ipython",
    "version": 3
   },
   "file_extension": ".py",
   "mimetype": "text/x-python",
   "name": "python",
   "nbconvert_exporter": "python",
   "pygments_lexer": "ipython3",
   "version": "3.12.3"
  }
 },
 "nbformat": 4,
 "nbformat_minor": 5
}
