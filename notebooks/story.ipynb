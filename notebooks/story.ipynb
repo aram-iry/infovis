{
 "cells": [
  {
   "cell_type": "markdown",
   "id": "5b2dae24-ad0b-45f8-bd5a-584078637b92",
   "metadata": {},
   "source": [
    "# The impact of fishing industries on whale populations\n"
   ]
  },
  {
   "cell_type": "code",
   "execution_count": null,
   "id": "56e181e1-66c6-465b-b412-ce3138ee4578",
   "metadata": {},
   "outputs": [],
   "source": [
    "%run piditje.ipynb\n"
   ]
  },
  {
   "cell_type": "code",
   "execution_count": null,
   "id": "799fe49c-8cdb-448f-8f32-ddd83fd7b818",
   "metadata": {},
   "outputs": [],
   "source": [
    "%run mortality-rates-by-species.ipynb"
   ]
  },
  {
   "cell_type": "code",
   "execution_count": null,
   "id": "190c275b-02f7-4100-8ef8-6c72a08f0048",
   "metadata": {},
   "outputs": [],
   "source": []
  }
 ],
 "metadata": {
  "kernelspec": {
   "display_name": "Python 3 (ipykernel)",
   "language": "python",
   "name": "python3"
  },
  "language_info": {
   "codemirror_mode": {
    "name": "ipython",
    "version": 3
   },
   "file_extension": ".py",
   "mimetype": "text/x-python",
   "name": "python",
   "nbconvert_exporter": "python",
   "pygments_lexer": "ipython3",
   "version": "3.13.2"
  }
 },
 "nbformat": 4,
 "nbformat_minor": 5
}
