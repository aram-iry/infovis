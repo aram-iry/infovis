{
 "cells": [
  {
   "cell_type": "markdown",
   "id": "5b2dae24-ad0b-45f8-bd5a-584078637b92",
   "metadata": {
    "id": "5b2dae24-ad0b-45f8-bd5a-584078637b92"
   },
   "source": [
    "# The Impact of Human Activity on Whale Populations"
   ]
  },
  {
   "cell_type": "markdown",
   "id": "99024dae",
   "metadata": {
    "id": "99024dae"
   },
   "source": [
    "Whales are majestic creatures that are vital to ocean health, playing key roles in food webs and the global carbon cycle. But over the past century, industrial-scale fishing and global shipping have introduced risks that now endanger the survival of many species. As demand for seafood and marine transport grows, so too do concerns about the sustainability of these industries and their impact on whale populations worldwide (Block & Amudson, 2020).\n",
    "\n",
    "While oversea transport and fishing is crucial for global trade, global food security, and coastal livelihoods, its side effects, such as whale bycatch, marine traffic and habitat disruption are increasingly hard to ignore. \n",
    "These pressures raise urgent questions about how to balance marine resource use with conservation. Yet despite increased attention, the full extent and evolution of these interactions are still not well understood (Moore et al., 2012).\n",
    "\n",
    "To explore these dynamics, we analyzed marine data on whale sightings, fishing activity, and ship movements across multiple regions and years. Our goal was to understand the scale and geography of interactions between whales and human activity on sea. By presenting both ecological and economic perspectives, we hope to contribute to a more nuanced understanding of how marine space can be managed to serve multiple priorities."
   ]
  },
  {
   "cell_type": "markdown",
   "id": "_BbYa5a_HxCD",
   "metadata": {
    "id": "_BbYa5a_HxCD"
   },
   "source": [
    "## The Scale of the Fishing Industry\n",
    "\n",
    "We began by examining the scale of the global fishing industry to provide context for the data story. Understanding how large and widespread fisheries have become over the past decades helps frame the intensity of human activity in marine environments. This sets the stage for exploring how industrial fishing may intersect with whale presence and other ecological factors, and why managing shared ocean space has become an increasingly complex challenge."
   ]
  },
  {
   "cell_type": "code",
   "execution_count": null,
   "id": "8dcdd0ca",
   "metadata": {
    "id": "8dcdd0ca",
    "tags": [
     "remove-input"
    ]
   },
   "outputs": [],
   "source": [
    "%run global_total_production.ipynb"
   ]
  },
  {
   "cell_type": "markdown",
   "id": "2BIBTw21H3RO",
   "metadata": {
    "id": "2BIBTw21H3RO"
   },
   "source": [
    "From 1960 to the late 1980s, global capture fisheries production experienced a steady and steep rise, growing from around 300 million metric tons to over 700 million. This surge coincided with post-war technological advances in fishing vessels, sonar tracking, and cold storage, tools that allowed fleets to venture farther and stay out longer. The 1980s and 1990s marked a second, steeper climb, with production peaking around 2000, approaching nearly 1 billion metric tons annually (Pauly et al., 2005).\n",
    "\n",
    "Since around 2000, global capture production has plateaued, with slight fluctuations but no sustained increase. This leveling off suggests that most of the world's major fisheries have reached or exceeded their sustainable limits, whether ecological (e.g. overfishing), regulatory, or technological.\n",
    "\n",
    "For whales, this upward curve in fishing activity directly correlates with a rise in threats such as bycatch, gear entanglement, and habitat disruption. More fishing effort means more gear in the water, more ship traffic, and less available food in some shared ecosystems. Importantly, this global trend does not represent a uniform threat; certain regions and species are more exposed than others, as other graphs in this study show."
   ]
  },
  {
   "cell_type": "markdown",
   "id": "8rYbBzhVIYel",
   "metadata": {
    "id": "8rYbBzhVIYel"
   },
   "source": [
    "To understand where fishing activity is most concentrated, we looked at total capture fisheries production by country. This helps identify key players in the industry and regions where the intensity of fishing may be most likely to intersect with marine wildlife. The maps below show total fisheries output by country since 1960, cumulative and annually respectively, zoomed in to reflect the 95% range to avoid extreme outliers."
   ]
  },
  {
   "cell_type": "code",
   "execution_count": null,
   "id": "799fe49c-8cdb-448f-8f32-ddd83fd7b818",
   "metadata": {
    "id": "799fe49c-8cdb-448f-8f32-ddd83fd7b818",
    "tags": [
     "remove-input"
    ]
   },
   "outputs": [],
   "source": [
    "%run total_production_country.ipynb"
   ]
  },
  {
   "cell_type": "code",
   "execution_count": null,
   "id": "bbd449fe",
   "metadata": {
    "id": "bbd449fe",
    "tags": [
     "remove-input"
    ]
   },
   "outputs": [],
   "source": [
    "%run annual_production_country.ipynb"
   ]
  },
  {
   "cell_type": "markdown",
   "id": "cMo1MgIKIZzW",
   "metadata": {
    "id": "cMo1MgIKIZzW"
   },
   "source": [
    "The geographic distribution of the capture fisheries production reveals a clear pattern: production is especially concentrated along the coasts of the Pacific and Indian Oceans, where rich marine biodiversity but also vast coastlines and industrialized fleets support large-scale operations. This includes not only Asia and South America, but also parts of Africa and Oceania. The darker shading in these regions reflects sustained, high levels of extraction over decades.\n",
    "\n",
    "When plotted over time, total global fisheries production shows a sharp rise from the 1960s, peaking around 2000, and then stagnating. However, this plateau does not reflect reduced fishing pressure but again suggests that limits have been reached. \n",
    "\n",
    "This map, although not explicitly marking whale-human incidents, helps pinpoint regions where intensive fishing is most likely to overlap with whale migration routes and habitats. Regions with dark blue shading, especially parts of Asia and the Americas, are critical areas where both production and ecological risk converge."
   ]
  },
  {
   "cell_type": "markdown",
   "id": "681830d4",
   "metadata": {
    "id": "681830d4"
   },
   "source": [
    "## The Economic Contribution of the Fishing Industry"
   ]
  },
  {
   "cell_type": "markdown",
   "id": "gXGo9l1bsesg",
   "metadata": {
    "id": "gXGo9l1bsesg"
   },
   "source": [
    "To place the fishing industry in a broader economic context, we next looked at its revenue as a percentage of global GDP. This helps illustrate not just the scale of fishing in physical terms, but its relative economic weight, offering insight into how significant the industry is compared to the wider global economy."
   ]
  },
  {
   "cell_type": "code",
   "execution_count": null,
   "id": "aac8225f",
   "metadata": {
    "id": "aac8225f",
    "tags": [
     "remove-input"
    ]
   },
   "outputs": [],
   "source": [
    "%run fishing_revenue.ipynb"
   ]
  },
  {
   "cell_type": "markdown",
   "id": "ZFwZY9R7sh48",
   "metadata": {
    "id": "ZFwZY9R7sh48"
   },
   "source": [
    "This graph shows a significant downward trend. In the early 1990s, the industry contributed around 0.0023-0.0025% of global GDP. By the mid-2000s, this had dropped below 0.0015%, and in the last decade, it has hovered below 0.0010%, with minor fluctuations.\n",
    "\n",
    "These are extremely small percentages in macroeconomic terms. While fishing remains vital for certain regions, jobs, and food systems, its direct financial footprint on the global economy is marginal: a fraction of a fraction compared to larger sectors like agriculture, energy, or technology.\n",
    "\n",
    "The steep decline during the 1990s is possibly linked to overfishing, collapse of fish stocks, and increased regulation. The post-2000s plateau could reflect a combination of market saturation, ecological limits, and more diversified global GDP sectors (tech, services, etc.).\n",
    "\n",
    "Importantly, this economic decline doesn’t necessarily translate into a reduced environmental impact. The fishing industry can remain ecologically disruptive even as its global financial weight shrinks. This again shows the complexity of managing marine sustainability."
   ]
  },
  {
   "cell_type": "markdown",
   "id": "mUQXDFSl9ZRw",
   "metadata": {
    "id": "mUQXDFSl9ZRw"
   },
   "source": [
    "## The Nutritional Importance of the Fishing Industry"
   ]
  },
  {
   "cell_type": "markdown",
   "id": "f4e99bab",
   "metadata": {},
   "source": [
    "While the fishing industry may represent a small share of global GDP, we know that its value extends far beyond economics. In many parts of the world, fish is a crucial source of nutrition, particularly protein, and plays a key role in food security. In this section, we explored the nutritional importance of the fishing industry and how its output contributes to diets."
   ]
  },
  {
   "cell_type": "code",
   "execution_count": null,
   "id": "Hu2-flhs9hAS",
   "metadata": {
    "id": "Hu2-flhs9hAS",
    "tags": [
     "remove-input"
    ]
   },
   "outputs": [],
   "source": [
    "%run fish_seafood_consumption.ipynb"
   ]
  },
  {
   "cell_type": "markdown",
   "id": "pGqp3GGuF0xp",
   "metadata": {
    "id": "pGqp3GGuF0xp"
   },
   "source": [
    "This graph illustrates that global fish and seafood consumption has increased dramatically, from just over 2,000 kg/year in the early 1960s to nearly 4,500 kg/year by the early 2020s. This trend reflects a growing demand for aquatic protein across both developing and developed regions, likely driven by rising incomes, population growth, urbanization, and improvements in fish production, particularly through aquaculture.\n",
    "\n",
    "The steady rise in consumption underscores the nutritional and cultural importance of fish in global diets. It also highlights the mounting pressure on marine ecosystems to meet this demand. While aquaculture has helped reduce reliance on wild-caught fish in some areas, capture fisheries still supply a significant portion of seafood globally. As consumption continues to grow, so too do the challenges of managing marine resources sustainably while minimizing negative impacts on ocean biodiversity, including whales and other non-target species."
   ]
  },
  {
   "cell_type": "markdown",
   "id": "e18356be",
   "metadata": {},
   "source": [
    "To put fish consumption in perspective, we next compared it to other sources of dietary protein. This allowed us to see how significant fish and seafood are relative to meat, eggs, dairy, and plant-based proteins in the global food system."
   ]
  },
  {
   "cell_type": "code",
   "execution_count": null,
   "id": "FPraCtP8FwmM",
   "metadata": {
    "id": "FPraCtP8FwmM",
    "tags": [
     "remove-input"
    ]
   },
   "outputs": [],
   "source": [
    "%run global_protein_sources.ipynb"
   ]
  },
  {
   "cell_type": "markdown",
   "id": "3152070c",
   "metadata": {},
   "source": [
    "It is clearly visible that the share of fish in the global sources of dietary protein has more or less stayed constant. It has risen slightly, going from 5.4% in 1961 to 6.0% in 2022, peaking at 7.1% in 1986. This shows that the nutritional importance of the fishing industry was at its highest in the 90s and the 2000s, but it has been constant from at least the 60s.\n",
    "\n",
    "However, from the graph before this one, we know that fish intake in absolute terms has more than doubled. This apparent contradiction can be explained by a general increase in total protein consumption worldwide, driven by population growth, rising incomes, changing dietary preferences, and improved access to animal and plant-based foods. As a result, fish continues to play an important role in feeding the world, even if its share of the total protein mix remains modest.\n",
    "\n",
    "Together, these graphs show that fish and seafood are increasingly important in terms of volume, but not dominance. This highlights a global shift toward higher overall protein consumption and underlines the value of fish as a flexible, widely consumed source of nutrition — especially relevant in regions with limited access to land-based protein.\n"
   ]
  },
  {
   "cell_type": "markdown",
   "id": "8nk2G6xGqrle",
   "metadata": {
    "id": "8nk2G6xGqrle"
   },
   "source": [
    "## Whale Ship Strikes\n",
    "\n",
    "While the fishing industry plays a key role in global nutrition and livelihoods, its presence — along with that of global shipping — also brings risks for marine life. One of the most direct and visible consequences for whales is the threat of ship strikes. In the following section, we shift focus from the human benefits of ocean industries to their impact on whales, starting with a look at global ship strike risk."
   ]
  },
  {
   "cell_type": "code",
   "execution_count": null,
   "id": "76003ec0",
   "metadata": {
    "id": "76003ec0",
    "tags": [
     "remove-input"
    ]
   },
   "outputs": [],
   "source": [
    "%run ship_strike_risk.ipynb"
   ]
  },
  {
   "cell_type": "code",
   "execution_count": null,
   "id": "346ee069",
   "metadata": {
    "tags": [
     "remove-input"
    ]
   },
   "outputs": [],
   "source": [
    "%run fishing_vessels_risk.ipynb"
   ]
  },
  {
   "cell_type": "markdown",
   "id": "NzLWp45Uq3g0",
   "metadata": {
    "id": "NzLWp45Uq3g0"
   },
   "source": [
    "The resulting Whale Ship Strike Risk heatmap shows that coastlines are the highest-risk zones. This is unsurprising: commercial vessels concentrate near land, where ports and shipping lanes are densest.\n",
    "\n",
    "Among species, Blue Whales face the gravest danger in the Indian Ocean, where strike probabilities soar as high as 0.9 across a wide area. Humpback Whales, likely due to their smaller size and different movement patterns, show relatively lower strike risk. Sperm Whales, however, are most threatened in the Mediterranean Sea, another zone with heavy ship traffic.\n",
    "\n",
    "Shipping intensity is highest in the Atlantic and Indian Oceans, but elevated risks are found globally. These patterns highlight how widespread the danger is — and how whale safety is intricately tied to global commerce routes.\n"
   ]
  },
  {
   "cell_type": "markdown",
   "id": "6b83a711",
   "metadata": {},
   "source": [
    "The Fisheries heatmap shows fishing vessel intensity as well as its overlap with whale habitats.It reveals zones where high whale presence coincides with concentrated fishing activity. In these overlap areas, whales may face increased threats from fishing operations, bycatch, and noise pollution.\n",
    "\n",
    "The Mediterranean Sea especially stands out as a region of concern for Sperm Whales, who already face high ship strike risks there. Notably, Sperm Whales are classified as vulnerable on the IUCN Red List of endangerment. Fishing vessel density is also pretty high along the coast of China. Here, both Humpback- and Blue Whales reside. Furthermore, according to the IUCN Red List, Blue Whales are endangered. This underlines the importance of monitoring these shared spaces."
   ]
  },
  {
   "cell_type": "markdown",
   "id": "Ub_nY4EFEnJa",
   "metadata": {
    "id": "Ub_nY4EFEnJa"
   },
   "source": [
    "## Whale Endangerment\n",
    "\n",
    "To better understand which whales are most vulnerable to human activity, we next looked at their conservation status. We wanted to look at both which species are most at risk and may be less able to withstand additional risks from human activity, and how many species are in this category."
   ]
  },
  {
   "cell_type": "code",
   "execution_count": null,
   "id": "4b90df03",
   "metadata": {
    "id": "4b90df03",
    "tags": [
     "remove-input"
    ]
   },
   "outputs": [],
   "source": [
    "%run endangerment_classification.ipynb"
   ]
  },
  {
   "cell_type": "markdown",
   "id": "R9jaxXrhEq8I",
   "metadata": {
    "id": "R9jaxXrhEq8I"
   },
   "source": [
    "This graph reveals a mixed picture. Encouragingly, the majority of whale species fall under the “Least Concern” category, with over 45 species classified as having relatively stable populations. However, this should not obscure the serious challenges facing many others. At least 11 species are classified as Endangered, and 4 species as Critically Endangered, placing them at immediate risk of extinction. An additional 6 species are Vulnerable, meaning they are on a downward trend and could soon face more serious threats.\n",
    "\n",
    "These classifications matter in part because species listed as Endangered or Critically Endangered are often the same ones that have limited ranges, narrow feeding grounds, or specific migratory routes, exactly the traits that make them more likely to interact with industrial fishing and shipping. For example, the North Atlantic right whale, one of the most endangered large whale species, has a migratory path that overlaps heavily with high-traffic shipping corridors and fishing zones in the western Atlantic.\n",
    "\n",
    "Taken together, this data shows that while some whale species are doing relatively well, a significant number face immediate or emerging threats. And with many species lacking sufficient data, the true extent of the crisis may be underrepresented."
   ]
  },
  {
   "cell_type": "markdown",
   "id": "5jGLMYds4WyS",
   "metadata": {
    "id": "5jGLMYds4WyS"
   },
   "source": [
    "## Whale Catching\n",
    "\n",
    "While less widespread than in the past, commercial whaling still occurs in a few countries. The chart below tracks whale catches by nation over several decades:"
   ]
  },
  {
   "cell_type": "code",
   "execution_count": null,
   "id": "892ecd31",
   "metadata": {
    "id": "892ecd31",
    "tags": [
     "remove-input"
    ]
   },
   "outputs": [],
   "source": [
    "%run whale_catches.ipynb"
   ]
  },
  {
   "cell_type": "markdown",
   "id": "nBOEDI7_4pBg",
   "metadata": {
    "id": "nBOEDI7_4pBg"
   },
   "source": [
    "The graph implies that there was an enormous spike of whale fishing in the late 80s, which was probably before restrictions were imposed. Then after this, the whaling rate stays quite constant.\n",
    "\n",
    "In conclusion, whales are still fished for to this day, which is also a great danger to their survival. What makes this so prominent is the fact that this is one of the smallest causes of whale mortality, but still a cause nonetheless."
   ]
  },
  {
   "cell_type": "markdown",
   "id": "Qbp4tWPX7EWt",
   "metadata": {
    "id": "Qbp4tWPX7EWt"
   },
   "source": [
    "## Summary\n",
    "\n",
    "Whales face an array of threats in today's ocean, many of which are driven by human activity. Global fisheries production has increased dramatically since the mid-20th century, expanding into new regions and intensifying the risks for marine mammals. Although production has plateaued since 2000, the threat remains: fishing gear continues to entangle and kill whales, often unintentionally, through bycatch. Certain species, like the False Killer Whale, suffer disproportionately, making up over 55% of recorded bycatch-related mortalities.\n",
    "\n",
    "Beyond bycatch, ship strikes also present a major hazard, especially in heavily trafficked waters. These incidents, though less visible, are often fatal and underreported. Combined with historical and in some cases ongoing whale catching, these pressures push many populations toward endangerment.\n",
    "\n",
    "The global map of marine ship activity illustrates how regions with the highest yields often overlap with whale migratory routes, intensifying the risk. Ultimately, whale endangerment isn't caused by one factor, but a convergence of industrial fishing, vessel traffic, and insufficient regulation.\n",
    "\n",
    "Together, the data reveal a troubling pattern: the same systems that sustain human demand for seafood and transport are simultaneously endangering one of the ocean's most iconic and essential species. Urgent, targeted action is needed."
   ]
  }
 ],
 "metadata": {
  "celltoolbar": "Tags",
  "colab": {
   "provenance": []
  },
  "kernelspec": {
   "display_name": "Python 3 (ipykernel)",
   "language": "python",
   "name": "python3"
  },
  "language_info": {
   "codemirror_mode": {
    "name": "ipython",
    "version": 3
   },
   "file_extension": ".py",
   "mimetype": "text/x-python",
   "name": "python",
   "nbconvert_exporter": "python",
   "pygments_lexer": "ipython3",
   "version": "3.12.3"
  }
 },
 "nbformat": 4,
 "nbformat_minor": 5
}
