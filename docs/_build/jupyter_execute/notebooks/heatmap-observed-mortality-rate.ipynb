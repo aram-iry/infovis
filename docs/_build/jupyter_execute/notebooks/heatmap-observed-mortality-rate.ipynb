{
 "cells": [
  {
   "cell_type": "code",
   "execution_count": 1,
   "metadata": {
    "colab": {
     "base_uri": "https://localhost:8080/",
     "height": 717
    },
    "id": "NIRtUSscY-Nt",
    "outputId": "b6ebc11e-5d2a-4131-bf28-ee0423180b3d"
   },
   "outputs": [
    {
     "ename": "ModuleNotFoundError",
     "evalue": "No module named 'pandas'",
     "output_type": "error",
     "traceback": [
      "\u001b[31m---------------------------------------------------------------------------\u001b[39m",
      "\u001b[31mModuleNotFoundError\u001b[39m                       Traceback (most recent call last)",
      "\u001b[36mCell\u001b[39m\u001b[36m \u001b[39m\u001b[32mIn[1]\u001b[39m\u001b[32m, line 1\u001b[39m\n\u001b[32m----> \u001b[39m\u001b[32m1\u001b[39m \u001b[38;5;28;01mimport\u001b[39;00m\u001b[38;5;250m \u001b[39m\u001b[34;01mpandas\u001b[39;00m\u001b[38;5;250m \u001b[39m\u001b[38;5;28;01mas\u001b[39;00m\u001b[38;5;250m \u001b[39m\u001b[34;01mpd\u001b[39;00m\n\u001b[32m      2\u001b[39m \u001b[38;5;28;01mimport\u001b[39;00m\u001b[38;5;250m \u001b[39m\u001b[34;01mplotly\u001b[39;00m\u001b[34;01m.\u001b[39;00m\u001b[34;01mgraph_objects\u001b[39;00m\u001b[38;5;250m \u001b[39m\u001b[38;5;28;01mas\u001b[39;00m\u001b[38;5;250m \u001b[39m\u001b[34;01mgo\u001b[39;00m\n\u001b[32m      4\u001b[39m \u001b[38;5;66;03m# Load the data\u001b[39;00m\n",
      "\u001b[31mModuleNotFoundError\u001b[39m: No module named 'pandas'"
     ]
    }
   ],
   "source": [
    "import pandas as pd\n",
    "import plotly.graph_objects as go\n",
    "\n",
    "# Load the data\n",
    "df = pd.read_csv('table5_whale-only_bycatch_data.csv')\n",
    "\n",
    "# Get unique years and sort them\n",
    "years = df['Calendar Year'].unique()\n",
    "years.sort()\n",
    "\n",
    "# Create traces for each year\n",
    "traces = []\n",
    "for year in years:\n",
    "    year_df = df[df['Calendar Year'] == year]\n",
    "    trace = go.Densitymapbox(\n",
    "        lat=year_df['LATITUDE (5° cell)'],\n",
    "        lon=year_df['LONGITUDE (5° cell)'],\n",
    "        z=year_df['Observed Mortality rate (per set)'],\n",
    "        radius=10,\n",
    "        visible=(year == years[0]),  # Only first year visible initially\n",
    "        colorbar=dict(\n",
    "            title='Mortality Rate per Set',\n",
    "            titleside='right'\n",
    "        ),\n",
    "        hovertext=year_df['Species (or group)'],\n",
    "        hovertemplate='<b>Species:</b> %{hovertext}<br>' +\n",
    "                      '<b>Lat:</b> %{lat:.1f}°<br>' +\n",
    "                      '<b>Lon:</b> %{lon:.1f}°<br>' +\n",
    "                      '<b>Mortality Rate:</b> %{z:.6f}<extra></extra>'\n",
    "    )\n",
    "    traces.append(trace)\n",
    "\n",
    "# Create slider steps\n",
    "slider_steps = []\n",
    "for i, year in enumerate(years):\n",
    "    slider_steps.append({\n",
    "        'method': 'update',\n",
    "        'args': [\n",
    "            {'visible': [i == j for j in range(len(traces))]},\n",
    "            {'title': 'Whale Bycatch Mortality Rate Heatmap'}\n",
    "        ],\n",
    "        'label': str(year)\n",
    "    })\n",
    "\n",
    "# Create the figure\n",
    "fig = go.Figure(\n",
    "    data=traces,\n",
    "    layout=go.Layout(\n",
    "        title='Whale Bycatch Mortality Rate Heatmap',\n",
    "        mapbox=dict(\n",
    "            accesstoken='pk.eyJ1IjoicnRob21hc2oiLCJhIjoiY21iejRtNzlnMWtndTJqczFvMXpramZrNiJ9.jsM767FfF1Z0GB1v_ns-qQ',\n",
    "            style='carto-positron',\n",
    "            center=dict(lat=0, lon=180),\n",
    "            zoom=2\n",
    "        ),\n",
    "        sliders=[{\n",
    "            'active': 0,\n",
    "            'currentvalue': {'prefix': 'Year: '},\n",
    "            'steps': slider_steps\n",
    "        }],\n",
    "        margin={'t': 50, 'r': 20, 'b': 20, 'l': 20}\n",
    "    )\n",
    ")\n",
    "\n",
    "# Update layout for better visualization\n",
    "fig.update_layout(\n",
    "    width=1000,\n",
    "    height=700,\n",
    "    mapbox_style=\"carto-positron\",\n",
    "    mapbox_center_lon=180\n",
    ")\n",
    "\n",
    "# Add caption above the slider\n",
    "fig.add_annotation(\n",
    "    x=0.5, y=-0.1,\n",
    "    xref='paper', yref='paper',\n",
    "    xanchor='center',\n",
    "    yanchor='top',\n",
    "    text='Drag the slider to view mortality rates by year',\n",
    "    showarrow=False\n",
    ")\n",
    "\n",
    "fig.show()"
   ]
  }
 ],
 "metadata": {
  "colab": {
   "provenance": []
  },
  "kernelspec": {
   "display_name": "Python 3",
   "name": "python3"
  },
  "language_info": {
   "codemirror_mode": {
    "name": "ipython",
    "version": 3
   },
   "file_extension": ".py",
   "mimetype": "text/x-python",
   "name": "python",
   "nbconvert_exporter": "python",
   "pygments_lexer": "ipython3",
   "version": "3.13.2"
  }
 },
 "nbformat": 4,
 "nbformat_minor": 0
}