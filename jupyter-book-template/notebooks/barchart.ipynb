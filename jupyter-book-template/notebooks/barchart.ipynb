import pandas as pd
import csv

import plotly.express as px

wb_df = pd.read_csv('whales_only.csv')
wb_df.head(n=1000)


fig = px.histogram(wb_df, x="redlistCategory")

fig.update_layout(
    title='Population trend',
    height=600,
    
)
fig.show()
